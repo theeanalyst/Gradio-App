{
 "cells": [
  {
   "cell_type": "markdown",
   "metadata": {},
   "source": [
    "## Telcom Company Customer Churning Analysis"
   ]
  },
  {
   "cell_type": "code",
   "execution_count": null,
   "metadata": {},
   "outputs": [],
   "source": []
  },
  {
   "cell_type": "markdown",
   "metadata": {},
   "source": [
    "### Packages Importation"
   ]
  },
  {
   "cell_type": "code",
   "execution_count": 1,
   "metadata": {},
   "outputs": [],
   "source": [
    "#importing the necessary packages\n",
    "import pyodbc \n",
    "from dotenv import dotenv_values\n",
    "import pandas as pd\n",
    "import numpy as np\n",
    "import warnings \n",
    "import seaborn as sns\n",
    "import matplotlib.pyplot as plt\n",
    "\n",
    "#modelling Libraries\n",
    "from sklearn.preprocessing import StandardScaler\n",
    "from sklearn.model_selection import train_test_split\n",
    "from sklearn.metrics import confusion_matrix,accuracy_score,precision_score,recall_score,f1_score\n",
    "from sklearn.model_selection import GridSearchCV\n",
    "from sklearn.metrics import roc_auc_score\n",
    "from sklearn import metrics\n",
    "from imblearn.combine import SMOTEENN\n",
    "from sklearn.neighbors import KNeighborsClassifier\n",
    "\n",
    "# Feature Processing (Scikit-learn processing, etc.)\n",
    "from sklearn.preprocessing import OneHotEncoder\n",
    "from sklearn.metrics import classification_report\n",
    "from sklearn.feature_selection import SelectKBest\n",
    "from sklearn.feature_selection import f_classif\n",
    "\n",
    "#Algorithms and pipeline\n",
    "\n",
    "from sklearn.tree import DecisionTreeClassifier\n",
    "from sklearn.linear_model import LogisticRegression\n",
    "from sklearn.ensemble import RandomForestClassifier\n",
    "from sklearn.svm import SVC\n",
    "from sklearn.pipeline import Pipeline\n",
    "from sklearn.compose import ColumnTransformer \n",
    "from imblearn.pipeline import Pipeline\n",
    "from sklearn.ensemble import BaggingClassifier\n",
    "\n",
    "##handling imbalance datasets\n",
    "\n",
    "from imblearn.over_sampling import SMOTE\n",
    "from sklearn.utils.class_weight import compute_class_weight\n",
    "\n",
    "warnings.filterwarnings('ignore')\n",
    "\n",
    "\n",
    "\n",
    "\n",
    "from sklearn.impute import SimpleImputer\n",
    "from sklearn.preprocessing import StandardScaler, OneHotEncoder\n",
    "from sklearn.feature_selection import SelectKBest\n",
    "from sklearn.metrics import classification_report\n",
    "\n"
   ]
  },
  {
   "cell_type": "markdown",
   "metadata": {},
   "source": [
    "## DATA LOADING"
   ]
  },
  {
   "cell_type": "code",
   "execution_count": 2,
   "metadata": {},
   "outputs": [],
   "source": [
    "full_data = pd.read_csv('finaldata.csv')"
   ]
  },
  {
   "cell_type": "markdown",
   "metadata": {},
   "source": [
    " To understand the structure of our dataset we use.info() to get:\n",
    " * The total number of rows in the DataFrame.\n",
    " * A summary of each column, including:\n",
    "  * The column name.\n",
    "  * The number of non-null values in that column.\n",
    "  * The data type of values in that column.\n",
    " * The memory usage of the DataFrame."
   ]
  },
  {
   "cell_type": "code",
   "execution_count": 3,
   "metadata": {},
   "outputs": [
    {
     "name": "stdout",
     "output_type": "stream",
     "text": [
      "<class 'pandas.core.frame.DataFrame'>\n",
      "RangeIndex: 5043 entries, 0 to 5042\n",
      "Data columns (total 35 columns):\n",
      " #   Column             Non-Null Count  Dtype  \n",
      "---  ------             --------------  -----  \n",
      " 0   CustomerID         3000 non-null   object \n",
      " 1   gender             5043 non-null   object \n",
      " 2   Senior Citizen     3000 non-null   float64\n",
      " 3   Partner            5043 non-null   object \n",
      " 4   Dependents         5043 non-null   object \n",
      " 5   tenure             5043 non-null   int64  \n",
      " 6   PhoneService       5043 non-null   object \n",
      " 7   MultpleLines       2731 non-null   float64\n",
      " 8   Internet Service   3000 non-null   object \n",
      " 9   Online Security    2349 non-null   float64\n",
      " 10  Online Backup      2349 non-null   float64\n",
      " 11  Device Protection  2349 non-null   float64\n",
      " 12  Tech Support       2349 non-null   float64\n",
      " 13  Streaming TV       2349 non-null   float64\n",
      " 14  Streaming Movies   2349 non-null   float64\n",
      " 15  Contract           5043 non-null   object \n",
      " 16  Paperless Billing  3000 non-null   float64\n",
      " 17  Payment Method     3000 non-null   object \n",
      " 18  Monthly Charges    3000 non-null   float64\n",
      " 19  Total Charges      2995 non-null   float64\n",
      " 20  Churn              5042 non-null   object \n",
      " 21  customerID         2043 non-null   object \n",
      " 22  SeniorCitizen      2043 non-null   float64\n",
      " 23  MultipleLines      2043 non-null   object \n",
      " 24  InternetService    2043 non-null   object \n",
      " 25  OnlineSecurity     2043 non-null   object \n",
      " 26  OnlineBackup       2043 non-null   object \n",
      " 27  DeviceProtection   2043 non-null   object \n",
      " 28  TechSupport        2043 non-null   object \n",
      " 29  StreamingTV        2043 non-null   object \n",
      " 30  StreamingMovies    2043 non-null   object \n",
      " 31  PaperlessBilling   2043 non-null   object \n",
      " 32  PaymentMethod      2043 non-null   object \n",
      " 33  MonthlyCharges     2043 non-null   float64\n",
      " 34  TotalCharges       2043 non-null   object \n",
      "dtypes: float64(13), int64(1), object(21)\n",
      "memory usage: 965.3+ KB\n"
     ]
    }
   ],
   "source": [
    "full_data.info()"
   ]
  },
  {
   "cell_type": "code",
   "execution_count": 4,
   "metadata": {},
   "outputs": [
    {
     "data": {
      "text/plain": [
       "CustomerID           2043\n",
       "gender                  0\n",
       "Senior Citizen       2043\n",
       "Partner                 0\n",
       "Dependents              0\n",
       "tenure                  0\n",
       "PhoneService            0\n",
       "MultpleLines         2312\n",
       "Internet Service     2043\n",
       "Online Security      2694\n",
       "Online Backup        2694\n",
       "Device Protection    2694\n",
       "Tech Support         2694\n",
       "Streaming TV         2694\n",
       "Streaming Movies     2694\n",
       "Contract                0\n",
       "Paperless Billing    2043\n",
       "Payment Method       2043\n",
       "Monthly Charges      2043\n",
       "Total Charges        2048\n",
       "Churn                   1\n",
       "customerID           3000\n",
       "SeniorCitizen        3000\n",
       "MultipleLines        3000\n",
       "InternetService      3000\n",
       "OnlineSecurity       3000\n",
       "OnlineBackup         3000\n",
       "DeviceProtection     3000\n",
       "TechSupport          3000\n",
       "StreamingTV          3000\n",
       "StreamingMovies      3000\n",
       "PaperlessBilling     3000\n",
       "PaymentMethod        3000\n",
       "MonthlyCharges       3000\n",
       "TotalCharges         3000\n",
       "dtype: int64"
      ]
     },
     "execution_count": 4,
     "metadata": {},
     "output_type": "execute_result"
    }
   ],
   "source": [
    "# Check if our dataset has null values\n",
    "full_data.isnull().sum()"
   ]
  },
  {
   "cell_type": "code",
   "execution_count": 5,
   "metadata": {},
   "outputs": [
    {
     "data": {
      "text/html": [
       "<div>\n",
       "<style scoped>\n",
       "    .dataframe tbody tr th:only-of-type {\n",
       "        vertical-align: middle;\n",
       "    }\n",
       "\n",
       "    .dataframe tbody tr th {\n",
       "        vertical-align: top;\n",
       "    }\n",
       "\n",
       "    .dataframe thead th {\n",
       "        text-align: right;\n",
       "    }\n",
       "</style>\n",
       "<table border=\"1\" class=\"dataframe\">\n",
       "  <thead>\n",
       "    <tr style=\"text-align: right;\">\n",
       "      <th></th>\n",
       "      <th>CustomerID</th>\n",
       "      <th>gender</th>\n",
       "      <th>Senior Citizen</th>\n",
       "      <th>Partner</th>\n",
       "      <th>Dependents</th>\n",
       "      <th>tenure</th>\n",
       "      <th>PhoneService</th>\n",
       "      <th>MultpleLines</th>\n",
       "      <th>Internet Service</th>\n",
       "      <th>Online Security</th>\n",
       "      <th>...</th>\n",
       "      <th>OnlineSecurity</th>\n",
       "      <th>OnlineBackup</th>\n",
       "      <th>DeviceProtection</th>\n",
       "      <th>TechSupport</th>\n",
       "      <th>StreamingTV</th>\n",
       "      <th>StreamingMovies</th>\n",
       "      <th>PaperlessBilling</th>\n",
       "      <th>PaymentMethod</th>\n",
       "      <th>MonthlyCharges</th>\n",
       "      <th>TotalCharges</th>\n",
       "    </tr>\n",
       "  </thead>\n",
       "  <tbody>\n",
       "    <tr>\n",
       "      <th>0</th>\n",
       "      <td>7590-VHVEG</td>\n",
       "      <td>Female</td>\n",
       "      <td>0.0</td>\n",
       "      <td>1</td>\n",
       "      <td>0</td>\n",
       "      <td>1</td>\n",
       "      <td>0</td>\n",
       "      <td>NaN</td>\n",
       "      <td>DSL</td>\n",
       "      <td>0.0</td>\n",
       "      <td>...</td>\n",
       "      <td>NaN</td>\n",
       "      <td>NaN</td>\n",
       "      <td>NaN</td>\n",
       "      <td>NaN</td>\n",
       "      <td>NaN</td>\n",
       "      <td>NaN</td>\n",
       "      <td>NaN</td>\n",
       "      <td>NaN</td>\n",
       "      <td>NaN</td>\n",
       "      <td>NaN</td>\n",
       "    </tr>\n",
       "    <tr>\n",
       "      <th>1</th>\n",
       "      <td>5575-GNVDE</td>\n",
       "      <td>Male</td>\n",
       "      <td>0.0</td>\n",
       "      <td>0</td>\n",
       "      <td>0</td>\n",
       "      <td>34</td>\n",
       "      <td>1</td>\n",
       "      <td>0.0</td>\n",
       "      <td>DSL</td>\n",
       "      <td>1.0</td>\n",
       "      <td>...</td>\n",
       "      <td>NaN</td>\n",
       "      <td>NaN</td>\n",
       "      <td>NaN</td>\n",
       "      <td>NaN</td>\n",
       "      <td>NaN</td>\n",
       "      <td>NaN</td>\n",
       "      <td>NaN</td>\n",
       "      <td>NaN</td>\n",
       "      <td>NaN</td>\n",
       "      <td>NaN</td>\n",
       "    </tr>\n",
       "    <tr>\n",
       "      <th>2</th>\n",
       "      <td>3668-QPYBK</td>\n",
       "      <td>Male</td>\n",
       "      <td>0.0</td>\n",
       "      <td>0</td>\n",
       "      <td>0</td>\n",
       "      <td>2</td>\n",
       "      <td>1</td>\n",
       "      <td>0.0</td>\n",
       "      <td>DSL</td>\n",
       "      <td>1.0</td>\n",
       "      <td>...</td>\n",
       "      <td>NaN</td>\n",
       "      <td>NaN</td>\n",
       "      <td>NaN</td>\n",
       "      <td>NaN</td>\n",
       "      <td>NaN</td>\n",
       "      <td>NaN</td>\n",
       "      <td>NaN</td>\n",
       "      <td>NaN</td>\n",
       "      <td>NaN</td>\n",
       "      <td>NaN</td>\n",
       "    </tr>\n",
       "    <tr>\n",
       "      <th>3</th>\n",
       "      <td>7795-CFOCW</td>\n",
       "      <td>Male</td>\n",
       "      <td>0.0</td>\n",
       "      <td>0</td>\n",
       "      <td>0</td>\n",
       "      <td>45</td>\n",
       "      <td>0</td>\n",
       "      <td>NaN</td>\n",
       "      <td>DSL</td>\n",
       "      <td>1.0</td>\n",
       "      <td>...</td>\n",
       "      <td>NaN</td>\n",
       "      <td>NaN</td>\n",
       "      <td>NaN</td>\n",
       "      <td>NaN</td>\n",
       "      <td>NaN</td>\n",
       "      <td>NaN</td>\n",
       "      <td>NaN</td>\n",
       "      <td>NaN</td>\n",
       "      <td>NaN</td>\n",
       "      <td>NaN</td>\n",
       "    </tr>\n",
       "    <tr>\n",
       "      <th>4</th>\n",
       "      <td>9237-HQITU</td>\n",
       "      <td>Female</td>\n",
       "      <td>0.0</td>\n",
       "      <td>0</td>\n",
       "      <td>0</td>\n",
       "      <td>2</td>\n",
       "      <td>1</td>\n",
       "      <td>0.0</td>\n",
       "      <td>Fiber optic</td>\n",
       "      <td>0.0</td>\n",
       "      <td>...</td>\n",
       "      <td>NaN</td>\n",
       "      <td>NaN</td>\n",
       "      <td>NaN</td>\n",
       "      <td>NaN</td>\n",
       "      <td>NaN</td>\n",
       "      <td>NaN</td>\n",
       "      <td>NaN</td>\n",
       "      <td>NaN</td>\n",
       "      <td>NaN</td>\n",
       "      <td>NaN</td>\n",
       "    </tr>\n",
       "  </tbody>\n",
       "</table>\n",
       "<p>5 rows × 35 columns</p>\n",
       "</div>"
      ],
      "text/plain": [
       "   CustomerID  gender  Senior Citizen Partner Dependents  tenure PhoneService  \\\n",
       "0  7590-VHVEG  Female             0.0       1          0       1            0   \n",
       "1  5575-GNVDE    Male             0.0       0          0      34            1   \n",
       "2  3668-QPYBK    Male             0.0       0          0       2            1   \n",
       "3  7795-CFOCW    Male             0.0       0          0      45            0   \n",
       "4  9237-HQITU  Female             0.0       0          0       2            1   \n",
       "\n",
       "   MultpleLines Internet Service  Online Security  ...  OnlineSecurity  \\\n",
       "0           NaN              DSL              0.0  ...             NaN   \n",
       "1           0.0              DSL              1.0  ...             NaN   \n",
       "2           0.0              DSL              1.0  ...             NaN   \n",
       "3           NaN              DSL              1.0  ...             NaN   \n",
       "4           0.0      Fiber optic              0.0  ...             NaN   \n",
       "\n",
       "   OnlineBackup  DeviceProtection  TechSupport  StreamingTV StreamingMovies  \\\n",
       "0           NaN               NaN          NaN          NaN             NaN   \n",
       "1           NaN               NaN          NaN          NaN             NaN   \n",
       "2           NaN               NaN          NaN          NaN             NaN   \n",
       "3           NaN               NaN          NaN          NaN             NaN   \n",
       "4           NaN               NaN          NaN          NaN             NaN   \n",
       "\n",
       "   PaperlessBilling PaymentMethod  MonthlyCharges  TotalCharges  \n",
       "0               NaN           NaN             NaN           NaN  \n",
       "1               NaN           NaN             NaN           NaN  \n",
       "2               NaN           NaN             NaN           NaN  \n",
       "3               NaN           NaN             NaN           NaN  \n",
       "4               NaN           NaN             NaN           NaN  \n",
       "\n",
       "[5 rows x 35 columns]"
      ]
     },
     "execution_count": 5,
     "metadata": {},
     "output_type": "execute_result"
    }
   ],
   "source": [
    "# Check the descriptive statistics of numeric variables\n",
    "full_data.head()"
   ]
  },
  {
   "cell_type": "markdown",
   "metadata": {},
   "source": [
    "## DATA CLEANING"
   ]
  },
  {
   "cell_type": "code",
   "execution_count": 6,
   "metadata": {},
   "outputs": [],
   "source": [
    "columns_to_replace = ['Partner', 'Dependents', 'PhoneService', 'MultipleLines',\n",
    "                      'OnlineSecurity', 'OnlineBackup', 'DeviceProtection', 'TechSupport',\n",
    "                      'StreamingTV', 'StreamingMovies', 'PaperlessBilling', 'Churn']\n",
    "\n",
    "for col in columns_to_replace:\n",
    "    full_data[col] = full_data[col].replace({True: 'Yes', False: 'No'})"
   ]
  },
  {
   "cell_type": "code",
   "execution_count": 7,
   "metadata": {},
   "outputs": [],
   "source": [
    "full_data['SeniorCitizen'] = full_data['SeniorCitizen'].replace({0: 'No', 1: 'Yes'})"
   ]
  },
  {
   "cell_type": "markdown",
   "metadata": {},
   "source": [
    "We shall create an assumption that fills nan values with 'No phone service' and 'No internet service'. This will apply to the following columns:'MultipleLines', 'OnlineSecurity', 'OnlineBackup', 'DeviceProtection', 'TechSupport', 'StreamingTV', 'StreamingMovies'"
   ]
  },
  {
   "cell_type": "code",
   "execution_count": 8,
   "metadata": {},
   "outputs": [],
   "source": [
    "full_data['MultipleLines'] = full_data['MultipleLines'].fillna('No phone service')\n",
    "\n",
    "# Define a dictionary with replacement values for each column \n",
    "replacement_dict = {\n",
    "    'OnlineSecurity': 'No internet service', \n",
    "    'OnlineBackup':'No internet service' , \n",
    "    'DeviceProtection': 'No internet service',\n",
    "    'TechSupport' : 'No internet service',\n",
    "    'StreamingTV' : 'No internet service',\n",
    "    'StreamingMovies' : 'No internet service',\n",
    "} \n",
    "\n",
    "# Replace NaN values in the DataFrame with the specified words based on the dictionary \n",
    "full_data= full_data.fillna(replacement_dict)"
   ]
  },
  {
   "cell_type": "code",
   "execution_count": 9,
   "metadata": {},
   "outputs": [
    {
     "data": {
      "text/plain": [
       "CustomerID           2043\n",
       "gender                  0\n",
       "Senior Citizen       2043\n",
       "Partner                 0\n",
       "Dependents              0\n",
       "tenure                  0\n",
       "PhoneService            0\n",
       "MultpleLines         2312\n",
       "Internet Service     2043\n",
       "Online Security      2694\n",
       "Online Backup        2694\n",
       "Device Protection    2694\n",
       "Tech Support         2694\n",
       "Streaming TV         2694\n",
       "Streaming Movies     2694\n",
       "Contract                0\n",
       "Paperless Billing    2043\n",
       "Payment Method       2043\n",
       "Monthly Charges      2043\n",
       "Total Charges        2048\n",
       "Churn                   1\n",
       "customerID           3000\n",
       "SeniorCitizen        3000\n",
       "MultipleLines           0\n",
       "InternetService      3000\n",
       "OnlineSecurity          0\n",
       "OnlineBackup            0\n",
       "DeviceProtection        0\n",
       "TechSupport             0\n",
       "StreamingTV             0\n",
       "StreamingMovies         0\n",
       "PaperlessBilling     3000\n",
       "PaymentMethod        3000\n",
       "MonthlyCharges       3000\n",
       "TotalCharges         3000\n",
       "dtype: int64"
      ]
     },
     "execution_count": 9,
     "metadata": {},
     "output_type": "execute_result"
    }
   ],
   "source": [
    "# Check if our dataset has null values after NULL Replacement\n",
    "full_data.isnull().sum()"
   ]
  },
  {
   "cell_type": "markdown",
   "metadata": {},
   "source": [
    "### Handling Total Charges Missing Values "
   ]
  },
  {
   "cell_type": "code",
   "execution_count": 10,
   "metadata": {},
   "outputs": [],
   "source": [
    "# Convert the object column to float, preserving missing values as NaN\n",
    "full_data['TotalCharges'] = pd.to_numeric(full_data['TotalCharges'], errors='coerce')\n",
    "\n",
    "# Round the values to 2 decimal places\n",
    "full_data['TotalCharges'] = full_data['TotalCharges'].round(2)"
   ]
  },
  {
   "cell_type": "code",
   "execution_count": 11,
   "metadata": {},
   "outputs": [
    {
     "data": {
      "text/plain": [
       "count    2040.000000\n",
       "mean     2303.214681\n",
       "std      2261.934905\n",
       "min        18.850000\n",
       "25%       434.250000\n",
       "50%      1398.275000\n",
       "75%      3846.962500\n",
       "max      8670.100000\n",
       "Name: TotalCharges, dtype: float64"
      ]
     },
     "execution_count": 11,
     "metadata": {},
     "output_type": "execute_result"
    }
   ],
   "source": [
    "full_data['TotalCharges'].describe()"
   ]
  },
  {
   "cell_type": "markdown",
   "metadata": {},
   "source": [
    "Imputing with the median is a common approach when dealing with skewed distributions or data containing outliers. The median is less sensitive to extreme values compared to the mean, making it a robust measure of central tendency. Imputing missing values with the median helps preserve the overall distribution's central tendency while minimizing the impact of outliers."
   ]
  },
  {
   "cell_type": "code",
   "execution_count": 12,
   "metadata": {},
   "outputs": [],
   "source": [
    "# Impute missing values with the median\n",
    "median_TotalCharges=full_data['TotalCharges'].median()\n",
    "full_data['TotalCharges'].fillna(median_TotalCharges, inplace=True)"
   ]
  },
  {
   "cell_type": "markdown",
   "metadata": {},
   "source": [
    "#### Handling churn missing values"
   ]
  },
  {
   "cell_type": "code",
   "execution_count": 13,
   "metadata": {
    "scrolled": true
   },
   "outputs": [
    {
     "name": "stdout",
     "output_type": "stream",
     "text": [
      "      CustomerID gender  Senior Citizen Partner Dependents  tenure  \\\n",
      "2988  6295-OSINB   Male             0.0       1          0      72   \n",
      "\n",
      "     PhoneService  MultpleLines Internet Service  Online Security  ...  \\\n",
      "2988            1           1.0      Fiber optic              1.0  ...   \n",
      "\n",
      "           OnlineSecurity         OnlineBackup     DeviceProtection  \\\n",
      "2988  No internet service  No internet service  No internet service   \n",
      "\n",
      "              TechSupport          StreamingTV      StreamingMovies  \\\n",
      "2988  No internet service  No internet service  No internet service   \n",
      "\n",
      "      PaperlessBilling PaymentMethod  MonthlyCharges  TotalCharges  \n",
      "2988               NaN           NaN             NaN      1398.275  \n",
      "\n",
      "[1 rows x 35 columns]\n"
     ]
    }
   ],
   "source": [
    "#check the row with missing column in 'Churn'\n",
    "column_name = 'Churn'\n",
    "# Filter rows with missing values in the specified column\n",
    "rows_with_missing_in_column = full_data[full_data[column_name].isnull()]\n",
    "print(rows_with_missing_in_column)"
   ]
  },
  {
   "cell_type": "markdown",
   "metadata": {},
   "source": [
    "This DataFrame contains only the rows from the original 'full_data' DataFrame where the churn column has missing values. This data represents a customer's information across various services, billing, and contract details."
   ]
  },
  {
   "cell_type": "code",
   "execution_count": 14,
   "metadata": {},
   "outputs": [
    {
     "data": {
      "text/plain": [
       "CustomerID           2043\n",
       "gender                  0\n",
       "Senior Citizen       2043\n",
       "Partner                 0\n",
       "Dependents              0\n",
       "tenure                  0\n",
       "PhoneService            0\n",
       "MultpleLines         2312\n",
       "Internet Service     2043\n",
       "Online Security      2694\n",
       "Online Backup        2694\n",
       "Device Protection    2694\n",
       "Tech Support         2694\n",
       "Streaming TV         2694\n",
       "Streaming Movies     2694\n",
       "Contract                0\n",
       "Paperless Billing    2043\n",
       "Payment Method       2043\n",
       "Monthly Charges      2043\n",
       "Total Charges        2048\n",
       "Churn                   0\n",
       "customerID           2999\n",
       "SeniorCitizen        2999\n",
       "MultipleLines           0\n",
       "InternetService      2999\n",
       "OnlineSecurity          0\n",
       "OnlineBackup            0\n",
       "DeviceProtection        0\n",
       "TechSupport             0\n",
       "StreamingTV             0\n",
       "StreamingMovies         0\n",
       "PaperlessBilling     2999\n",
       "PaymentMethod        2999\n",
       "MonthlyCharges       2999\n",
       "TotalCharges            0\n",
       "dtype: int64"
      ]
     },
     "execution_count": 14,
     "metadata": {},
     "output_type": "execute_result"
    }
   ],
   "source": [
    "#drop missing value in 'Churn' column\n",
    "full_data = full_data.dropna(subset=['Churn'])\n",
    "full_data.isnull().sum()"
   ]
  },
  {
   "cell_type": "code",
   "execution_count": 15,
   "metadata": {},
   "outputs": [
    {
     "data": {
      "text/html": [
       "<div>\n",
       "<style scoped>\n",
       "    .dataframe tbody tr th:only-of-type {\n",
       "        vertical-align: middle;\n",
       "    }\n",
       "\n",
       "    .dataframe tbody tr th {\n",
       "        vertical-align: top;\n",
       "    }\n",
       "\n",
       "    .dataframe thead th {\n",
       "        text-align: right;\n",
       "    }\n",
       "</style>\n",
       "<table border=\"1\" class=\"dataframe\">\n",
       "  <thead>\n",
       "    <tr style=\"text-align: right;\">\n",
       "      <th></th>\n",
       "      <th>CustomerID</th>\n",
       "      <th>gender</th>\n",
       "      <th>Senior Citizen</th>\n",
       "      <th>Partner</th>\n",
       "      <th>Dependents</th>\n",
       "      <th>tenure</th>\n",
       "      <th>PhoneService</th>\n",
       "      <th>MultpleLines</th>\n",
       "      <th>Internet Service</th>\n",
       "      <th>Online Security</th>\n",
       "      <th>...</th>\n",
       "      <th>OnlineSecurity</th>\n",
       "      <th>OnlineBackup</th>\n",
       "      <th>DeviceProtection</th>\n",
       "      <th>TechSupport</th>\n",
       "      <th>StreamingTV</th>\n",
       "      <th>StreamingMovies</th>\n",
       "      <th>PaperlessBilling</th>\n",
       "      <th>PaymentMethod</th>\n",
       "      <th>MonthlyCharges</th>\n",
       "      <th>TotalCharges</th>\n",
       "    </tr>\n",
       "  </thead>\n",
       "  <tbody>\n",
       "    <tr>\n",
       "      <th>0</th>\n",
       "      <td>7590-VHVEG</td>\n",
       "      <td>Female</td>\n",
       "      <td>0.0</td>\n",
       "      <td>1</td>\n",
       "      <td>0</td>\n",
       "      <td>1</td>\n",
       "      <td>0</td>\n",
       "      <td>NaN</td>\n",
       "      <td>DSL</td>\n",
       "      <td>0.0</td>\n",
       "      <td>...</td>\n",
       "      <td>No internet service</td>\n",
       "      <td>No internet service</td>\n",
       "      <td>No internet service</td>\n",
       "      <td>No internet service</td>\n",
       "      <td>No internet service</td>\n",
       "      <td>No internet service</td>\n",
       "      <td>NaN</td>\n",
       "      <td>NaN</td>\n",
       "      <td>NaN</td>\n",
       "      <td>1398.275</td>\n",
       "    </tr>\n",
       "    <tr>\n",
       "      <th>1</th>\n",
       "      <td>5575-GNVDE</td>\n",
       "      <td>Male</td>\n",
       "      <td>0.0</td>\n",
       "      <td>0</td>\n",
       "      <td>0</td>\n",
       "      <td>34</td>\n",
       "      <td>1</td>\n",
       "      <td>0.0</td>\n",
       "      <td>DSL</td>\n",
       "      <td>1.0</td>\n",
       "      <td>...</td>\n",
       "      <td>No internet service</td>\n",
       "      <td>No internet service</td>\n",
       "      <td>No internet service</td>\n",
       "      <td>No internet service</td>\n",
       "      <td>No internet service</td>\n",
       "      <td>No internet service</td>\n",
       "      <td>NaN</td>\n",
       "      <td>NaN</td>\n",
       "      <td>NaN</td>\n",
       "      <td>1398.275</td>\n",
       "    </tr>\n",
       "    <tr>\n",
       "      <th>2</th>\n",
       "      <td>3668-QPYBK</td>\n",
       "      <td>Male</td>\n",
       "      <td>0.0</td>\n",
       "      <td>0</td>\n",
       "      <td>0</td>\n",
       "      <td>2</td>\n",
       "      <td>1</td>\n",
       "      <td>0.0</td>\n",
       "      <td>DSL</td>\n",
       "      <td>1.0</td>\n",
       "      <td>...</td>\n",
       "      <td>No internet service</td>\n",
       "      <td>No internet service</td>\n",
       "      <td>No internet service</td>\n",
       "      <td>No internet service</td>\n",
       "      <td>No internet service</td>\n",
       "      <td>No internet service</td>\n",
       "      <td>NaN</td>\n",
       "      <td>NaN</td>\n",
       "      <td>NaN</td>\n",
       "      <td>1398.275</td>\n",
       "    </tr>\n",
       "    <tr>\n",
       "      <th>3</th>\n",
       "      <td>7795-CFOCW</td>\n",
       "      <td>Male</td>\n",
       "      <td>0.0</td>\n",
       "      <td>0</td>\n",
       "      <td>0</td>\n",
       "      <td>45</td>\n",
       "      <td>0</td>\n",
       "      <td>NaN</td>\n",
       "      <td>DSL</td>\n",
       "      <td>1.0</td>\n",
       "      <td>...</td>\n",
       "      <td>No internet service</td>\n",
       "      <td>No internet service</td>\n",
       "      <td>No internet service</td>\n",
       "      <td>No internet service</td>\n",
       "      <td>No internet service</td>\n",
       "      <td>No internet service</td>\n",
       "      <td>NaN</td>\n",
       "      <td>NaN</td>\n",
       "      <td>NaN</td>\n",
       "      <td>1398.275</td>\n",
       "    </tr>\n",
       "    <tr>\n",
       "      <th>4</th>\n",
       "      <td>9237-HQITU</td>\n",
       "      <td>Female</td>\n",
       "      <td>0.0</td>\n",
       "      <td>0</td>\n",
       "      <td>0</td>\n",
       "      <td>2</td>\n",
       "      <td>1</td>\n",
       "      <td>0.0</td>\n",
       "      <td>Fiber optic</td>\n",
       "      <td>0.0</td>\n",
       "      <td>...</td>\n",
       "      <td>No internet service</td>\n",
       "      <td>No internet service</td>\n",
       "      <td>No internet service</td>\n",
       "      <td>No internet service</td>\n",
       "      <td>No internet service</td>\n",
       "      <td>No internet service</td>\n",
       "      <td>NaN</td>\n",
       "      <td>NaN</td>\n",
       "      <td>NaN</td>\n",
       "      <td>1398.275</td>\n",
       "    </tr>\n",
       "  </tbody>\n",
       "</table>\n",
       "<p>5 rows × 35 columns</p>\n",
       "</div>"
      ],
      "text/plain": [
       "   CustomerID  gender  Senior Citizen Partner Dependents  tenure PhoneService  \\\n",
       "0  7590-VHVEG  Female             0.0       1          0       1            0   \n",
       "1  5575-GNVDE    Male             0.0       0          0      34            1   \n",
       "2  3668-QPYBK    Male             0.0       0          0       2            1   \n",
       "3  7795-CFOCW    Male             0.0       0          0      45            0   \n",
       "4  9237-HQITU  Female             0.0       0          0       2            1   \n",
       "\n",
       "   MultpleLines Internet Service  Online Security  ...       OnlineSecurity  \\\n",
       "0           NaN              DSL              0.0  ...  No internet service   \n",
       "1           0.0              DSL              1.0  ...  No internet service   \n",
       "2           0.0              DSL              1.0  ...  No internet service   \n",
       "3           NaN              DSL              1.0  ...  No internet service   \n",
       "4           0.0      Fiber optic              0.0  ...  No internet service   \n",
       "\n",
       "          OnlineBackup     DeviceProtection          TechSupport  \\\n",
       "0  No internet service  No internet service  No internet service   \n",
       "1  No internet service  No internet service  No internet service   \n",
       "2  No internet service  No internet service  No internet service   \n",
       "3  No internet service  No internet service  No internet service   \n",
       "4  No internet service  No internet service  No internet service   \n",
       "\n",
       "           StreamingTV      StreamingMovies  PaperlessBilling PaymentMethod  \\\n",
       "0  No internet service  No internet service               NaN           NaN   \n",
       "1  No internet service  No internet service               NaN           NaN   \n",
       "2  No internet service  No internet service               NaN           NaN   \n",
       "3  No internet service  No internet service               NaN           NaN   \n",
       "4  No internet service  No internet service               NaN           NaN   \n",
       "\n",
       "   MonthlyCharges  TotalCharges  \n",
       "0             NaN      1398.275  \n",
       "1             NaN      1398.275  \n",
       "2             NaN      1398.275  \n",
       "3             NaN      1398.275  \n",
       "4             NaN      1398.275  \n",
       "\n",
       "[5 rows x 35 columns]"
      ]
     },
     "execution_count": 15,
     "metadata": {},
     "output_type": "execute_result"
    }
   ],
   "source": [
    "full_data.head(5)"
   ]
  },
  {
   "cell_type": "code",
   "execution_count": 16,
   "metadata": {},
   "outputs": [
    {
     "data": {
      "text/html": [
       "<div>\n",
       "<style scoped>\n",
       "    .dataframe tbody tr th:only-of-type {\n",
       "        vertical-align: middle;\n",
       "    }\n",
       "\n",
       "    .dataframe tbody tr th {\n",
       "        vertical-align: top;\n",
       "    }\n",
       "\n",
       "    .dataframe thead th {\n",
       "        text-align: right;\n",
       "    }\n",
       "</style>\n",
       "<table border=\"1\" class=\"dataframe\">\n",
       "  <thead>\n",
       "    <tr style=\"text-align: right;\">\n",
       "      <th></th>\n",
       "      <th>Senior Citizen</th>\n",
       "      <th>tenure</th>\n",
       "      <th>MultpleLines</th>\n",
       "      <th>Online Security</th>\n",
       "      <th>Online Backup</th>\n",
       "      <th>Device Protection</th>\n",
       "      <th>Tech Support</th>\n",
       "      <th>Streaming TV</th>\n",
       "      <th>Streaming Movies</th>\n",
       "      <th>Paperless Billing</th>\n",
       "      <th>Monthly Charges</th>\n",
       "      <th>Total Charges</th>\n",
       "      <th>MonthlyCharges</th>\n",
       "      <th>TotalCharges</th>\n",
       "    </tr>\n",
       "  </thead>\n",
       "  <tbody>\n",
       "    <tr>\n",
       "      <th>count</th>\n",
       "      <td>2999.000000</td>\n",
       "      <td>5042.000000</td>\n",
       "      <td>2730.000000</td>\n",
       "      <td>2348.000000</td>\n",
       "      <td>2348.000000</td>\n",
       "      <td>2348.000000</td>\n",
       "      <td>2348.000000</td>\n",
       "      <td>2348.000000</td>\n",
       "      <td>2348.000000</td>\n",
       "      <td>2999.000000</td>\n",
       "      <td>2999.000000</td>\n",
       "      <td>2994.000000</td>\n",
       "      <td>2043.000000</td>\n",
       "      <td>5042.000000</td>\n",
       "    </tr>\n",
       "    <tr>\n",
       "      <th>mean</th>\n",
       "      <td>0.158386</td>\n",
       "      <td>32.568822</td>\n",
       "      <td>0.473626</td>\n",
       "      <td>0.370528</td>\n",
       "      <td>0.437819</td>\n",
       "      <td>0.448041</td>\n",
       "      <td>0.371806</td>\n",
       "      <td>0.493186</td>\n",
       "      <td>0.510221</td>\n",
       "      <td>0.591864</td>\n",
       "      <td>65.332628</td>\n",
       "      <td>2299.414931</td>\n",
       "      <td>64.712555</td>\n",
       "      <td>1764.414816</td>\n",
       "    </tr>\n",
       "    <tr>\n",
       "      <th>std</th>\n",
       "      <td>0.365164</td>\n",
       "      <td>24.525954</td>\n",
       "      <td>0.499395</td>\n",
       "      <td>0.483049</td>\n",
       "      <td>0.496224</td>\n",
       "      <td>0.497399</td>\n",
       "      <td>0.483390</td>\n",
       "      <td>0.500060</td>\n",
       "      <td>0.500002</td>\n",
       "      <td>0.491571</td>\n",
       "      <td>30.131213</td>\n",
       "      <td>2273.080813</td>\n",
       "      <td>29.970010</td>\n",
       "      <td>1505.587205</td>\n",
       "    </tr>\n",
       "    <tr>\n",
       "      <th>min</th>\n",
       "      <td>0.000000</td>\n",
       "      <td>0.000000</td>\n",
       "      <td>0.000000</td>\n",
       "      <td>0.000000</td>\n",
       "      <td>0.000000</td>\n",
       "      <td>0.000000</td>\n",
       "      <td>0.000000</td>\n",
       "      <td>0.000000</td>\n",
       "      <td>0.000000</td>\n",
       "      <td>0.000000</td>\n",
       "      <td>18.400000</td>\n",
       "      <td>18.799999</td>\n",
       "      <td>18.550000</td>\n",
       "      <td>18.850000</td>\n",
       "    </tr>\n",
       "    <tr>\n",
       "      <th>25%</th>\n",
       "      <td>0.000000</td>\n",
       "      <td>9.000000</td>\n",
       "      <td>0.000000</td>\n",
       "      <td>0.000000</td>\n",
       "      <td>0.000000</td>\n",
       "      <td>0.000000</td>\n",
       "      <td>0.000000</td>\n",
       "      <td>0.000000</td>\n",
       "      <td>0.000000</td>\n",
       "      <td>0.000000</td>\n",
       "      <td>35.775000</td>\n",
       "      <td>415.175003</td>\n",
       "      <td>35.825000</td>\n",
       "      <td>1398.275000</td>\n",
       "    </tr>\n",
       "    <tr>\n",
       "      <th>50%</th>\n",
       "      <td>0.000000</td>\n",
       "      <td>29.000000</td>\n",
       "      <td>0.000000</td>\n",
       "      <td>0.000000</td>\n",
       "      <td>0.000000</td>\n",
       "      <td>0.000000</td>\n",
       "      <td>0.000000</td>\n",
       "      <td>0.000000</td>\n",
       "      <td>1.000000</td>\n",
       "      <td>1.000000</td>\n",
       "      <td>70.900002</td>\n",
       "      <td>1402.900024</td>\n",
       "      <td>70.250000</td>\n",
       "      <td>1398.275000</td>\n",
       "    </tr>\n",
       "    <tr>\n",
       "      <th>75%</th>\n",
       "      <td>0.000000</td>\n",
       "      <td>56.000000</td>\n",
       "      <td>1.000000</td>\n",
       "      <td>1.000000</td>\n",
       "      <td>1.000000</td>\n",
       "      <td>1.000000</td>\n",
       "      <td>1.000000</td>\n",
       "      <td>1.000000</td>\n",
       "      <td>1.000000</td>\n",
       "      <td>1.000000</td>\n",
       "      <td>90.250000</td>\n",
       "      <td>3865.562561</td>\n",
       "      <td>89.625000</td>\n",
       "      <td>1398.275000</td>\n",
       "    </tr>\n",
       "    <tr>\n",
       "      <th>max</th>\n",
       "      <td>1.000000</td>\n",
       "      <td>72.000000</td>\n",
       "      <td>1.000000</td>\n",
       "      <td>1.000000</td>\n",
       "      <td>1.000000</td>\n",
       "      <td>1.000000</td>\n",
       "      <td>1.000000</td>\n",
       "      <td>1.000000</td>\n",
       "      <td>1.000000</td>\n",
       "      <td>1.000000</td>\n",
       "      <td>118.650002</td>\n",
       "      <td>8564.750000</td>\n",
       "      <td>118.350000</td>\n",
       "      <td>8670.100000</td>\n",
       "    </tr>\n",
       "  </tbody>\n",
       "</table>\n",
       "</div>"
      ],
      "text/plain": [
       "       Senior Citizen       tenure  MultpleLines  Online Security  \\\n",
       "count     2999.000000  5042.000000   2730.000000      2348.000000   \n",
       "mean         0.158386    32.568822      0.473626         0.370528   \n",
       "std          0.365164    24.525954      0.499395         0.483049   \n",
       "min          0.000000     0.000000      0.000000         0.000000   \n",
       "25%          0.000000     9.000000      0.000000         0.000000   \n",
       "50%          0.000000    29.000000      0.000000         0.000000   \n",
       "75%          0.000000    56.000000      1.000000         1.000000   \n",
       "max          1.000000    72.000000      1.000000         1.000000   \n",
       "\n",
       "       Online Backup  Device Protection  Tech Support  Streaming TV  \\\n",
       "count    2348.000000        2348.000000   2348.000000   2348.000000   \n",
       "mean        0.437819           0.448041      0.371806      0.493186   \n",
       "std         0.496224           0.497399      0.483390      0.500060   \n",
       "min         0.000000           0.000000      0.000000      0.000000   \n",
       "25%         0.000000           0.000000      0.000000      0.000000   \n",
       "50%         0.000000           0.000000      0.000000      0.000000   \n",
       "75%         1.000000           1.000000      1.000000      1.000000   \n",
       "max         1.000000           1.000000      1.000000      1.000000   \n",
       "\n",
       "       Streaming Movies  Paperless Billing  Monthly Charges  Total Charges  \\\n",
       "count       2348.000000        2999.000000      2999.000000    2994.000000   \n",
       "mean           0.510221           0.591864        65.332628    2299.414931   \n",
       "std            0.500002           0.491571        30.131213    2273.080813   \n",
       "min            0.000000           0.000000        18.400000      18.799999   \n",
       "25%            0.000000           0.000000        35.775000     415.175003   \n",
       "50%            1.000000           1.000000        70.900002    1402.900024   \n",
       "75%            1.000000           1.000000        90.250000    3865.562561   \n",
       "max            1.000000           1.000000       118.650002    8564.750000   \n",
       "\n",
       "       MonthlyCharges  TotalCharges  \n",
       "count     2043.000000   5042.000000  \n",
       "mean        64.712555   1764.414816  \n",
       "std         29.970010   1505.587205  \n",
       "min         18.550000     18.850000  \n",
       "25%         35.825000   1398.275000  \n",
       "50%         70.250000   1398.275000  \n",
       "75%         89.625000   1398.275000  \n",
       "max        118.350000   8670.100000  "
      ]
     },
     "execution_count": 16,
     "metadata": {},
     "output_type": "execute_result"
    }
   ],
   "source": [
    "full_data.describe()"
   ]
  },
  {
   "cell_type": "markdown",
   "metadata": {},
   "source": [
    " We used .describe() calculate various statistical measures for the numerical columns in the DataFrame. Which are tenure column,\tMonthlyCharges column,and TotalCharges column. We can see that in:\n",
    " \n",
    " #### Count:\n",
    "\n",
    "All three columns (\"tenure,\" \"MonthlyCharges,\" and \"TotalCharges\") have the same count of 5042. This suggests that there are no missing values in these columns.\n",
    "\n",
    "#### Mean (Average):\n",
    "\n",
    "* \"tenure\": The average tenure (duration of service) is approximately 32.57 months. This gives an idea of the typical length of time customers have been using the service.\n",
    "* \"MonthlyCharges\": The average monthly charge is around $65.08 This provides insight into the average cost customers are paying each month for the service.\n",
    "\n",
    "* \"TotalCharges\": The average total charges amount to about $2299.53. This is the accumulated amount customers have paid over their tenure.\n",
    "\n",
    "#### Standard Deviation:\n",
    "\n",
    "* \"tenure\": The relatively high standard deviation of approximately 24.53 for tenure indicates a wide range of variability in how long customers have been with the service.\n",
    "* \"MonthlyCharges\": The standard deviation of around 30.06 for monthly charges suggests that there is some variability in the pricing plans chosen by customers.\n",
    "* \"TotalCharges\": With a standard deviation of about 2266.83 for total charges, there is significant variability in the amount customers have paid overall.\n",
    "\n",
    "#### Minimum and Maximum:\n",
    "\n",
    "* \"tenure\": The minimum tenure is 0, indicating that there might be instances where customers have just started or haven't stayed long. The maximum is 72, indicating long-standing customers.\n",
    "* \"MonthlyCharges\": The range of monthly charges extends from a minimum  of $18.4 to a maximum of  $118.65.\n",
    "* \"TotalCharges\": Total charges vary between  $18.8  and  $8670.1.\n",
    "\n",
    "#### Percentiles:\n",
    "\n",
    "Percentiles provide insight into the data distribution.\n",
    "Median (\"50%\"): For \"tenure,\" the median is 29 months, meaning half of the customers have tenures shorter than this, and half have tenures longer.\n",
    "For \"MonthlyCharges,\" the median is $70.55, indicating the middle point of the charge distribution.\n",
    "For \"TotalCharges,\" the median is  $1401.15, indicating the middle point of the accumulated charges."
   ]
  },
  {
   "cell_type": "code",
   "execution_count": 17,
   "metadata": {},
   "outputs": [
    {
     "data": {
      "text/html": [
       "<div>\n",
       "<style scoped>\n",
       "    .dataframe tbody tr th:only-of-type {\n",
       "        vertical-align: middle;\n",
       "    }\n",
       "\n",
       "    .dataframe tbody tr th {\n",
       "        vertical-align: top;\n",
       "    }\n",
       "\n",
       "    .dataframe thead th {\n",
       "        text-align: right;\n",
       "    }\n",
       "</style>\n",
       "<table border=\"1\" class=\"dataframe\">\n",
       "  <thead>\n",
       "    <tr style=\"text-align: right;\">\n",
       "      <th></th>\n",
       "      <th>CustomerID</th>\n",
       "      <th>gender</th>\n",
       "      <th>Senior Citizen</th>\n",
       "      <th>Partner</th>\n",
       "      <th>Dependents</th>\n",
       "      <th>tenure</th>\n",
       "      <th>PhoneService</th>\n",
       "      <th>MultpleLines</th>\n",
       "      <th>Internet Service</th>\n",
       "      <th>Online Security</th>\n",
       "      <th>...</th>\n",
       "      <th>OnlineSecurity</th>\n",
       "      <th>OnlineBackup</th>\n",
       "      <th>DeviceProtection</th>\n",
       "      <th>TechSupport</th>\n",
       "      <th>StreamingTV</th>\n",
       "      <th>StreamingMovies</th>\n",
       "      <th>PaperlessBilling</th>\n",
       "      <th>PaymentMethod</th>\n",
       "      <th>MonthlyCharges</th>\n",
       "      <th>TotalCharges</th>\n",
       "    </tr>\n",
       "  </thead>\n",
       "  <tbody>\n",
       "    <tr>\n",
       "      <th>0</th>\n",
       "      <td>7590-VHVEG</td>\n",
       "      <td>Female</td>\n",
       "      <td>0.0</td>\n",
       "      <td>1</td>\n",
       "      <td>0</td>\n",
       "      <td>1</td>\n",
       "      <td>0</td>\n",
       "      <td>NaN</td>\n",
       "      <td>DSL</td>\n",
       "      <td>0.0</td>\n",
       "      <td>...</td>\n",
       "      <td>No internet service</td>\n",
       "      <td>No internet service</td>\n",
       "      <td>No internet service</td>\n",
       "      <td>No internet service</td>\n",
       "      <td>No internet service</td>\n",
       "      <td>No internet service</td>\n",
       "      <td>NaN</td>\n",
       "      <td>NaN</td>\n",
       "      <td>NaN</td>\n",
       "      <td>1398.275</td>\n",
       "    </tr>\n",
       "    <tr>\n",
       "      <th>1</th>\n",
       "      <td>5575-GNVDE</td>\n",
       "      <td>Male</td>\n",
       "      <td>0.0</td>\n",
       "      <td>0</td>\n",
       "      <td>0</td>\n",
       "      <td>34</td>\n",
       "      <td>1</td>\n",
       "      <td>0.0</td>\n",
       "      <td>DSL</td>\n",
       "      <td>1.0</td>\n",
       "      <td>...</td>\n",
       "      <td>No internet service</td>\n",
       "      <td>No internet service</td>\n",
       "      <td>No internet service</td>\n",
       "      <td>No internet service</td>\n",
       "      <td>No internet service</td>\n",
       "      <td>No internet service</td>\n",
       "      <td>NaN</td>\n",
       "      <td>NaN</td>\n",
       "      <td>NaN</td>\n",
       "      <td>1398.275</td>\n",
       "    </tr>\n",
       "    <tr>\n",
       "      <th>2</th>\n",
       "      <td>3668-QPYBK</td>\n",
       "      <td>Male</td>\n",
       "      <td>0.0</td>\n",
       "      <td>0</td>\n",
       "      <td>0</td>\n",
       "      <td>2</td>\n",
       "      <td>1</td>\n",
       "      <td>0.0</td>\n",
       "      <td>DSL</td>\n",
       "      <td>1.0</td>\n",
       "      <td>...</td>\n",
       "      <td>No internet service</td>\n",
       "      <td>No internet service</td>\n",
       "      <td>No internet service</td>\n",
       "      <td>No internet service</td>\n",
       "      <td>No internet service</td>\n",
       "      <td>No internet service</td>\n",
       "      <td>NaN</td>\n",
       "      <td>NaN</td>\n",
       "      <td>NaN</td>\n",
       "      <td>1398.275</td>\n",
       "    </tr>\n",
       "    <tr>\n",
       "      <th>3</th>\n",
       "      <td>7795-CFOCW</td>\n",
       "      <td>Male</td>\n",
       "      <td>0.0</td>\n",
       "      <td>0</td>\n",
       "      <td>0</td>\n",
       "      <td>45</td>\n",
       "      <td>0</td>\n",
       "      <td>NaN</td>\n",
       "      <td>DSL</td>\n",
       "      <td>1.0</td>\n",
       "      <td>...</td>\n",
       "      <td>No internet service</td>\n",
       "      <td>No internet service</td>\n",
       "      <td>No internet service</td>\n",
       "      <td>No internet service</td>\n",
       "      <td>No internet service</td>\n",
       "      <td>No internet service</td>\n",
       "      <td>NaN</td>\n",
       "      <td>NaN</td>\n",
       "      <td>NaN</td>\n",
       "      <td>1398.275</td>\n",
       "    </tr>\n",
       "    <tr>\n",
       "      <th>4</th>\n",
       "      <td>9237-HQITU</td>\n",
       "      <td>Female</td>\n",
       "      <td>0.0</td>\n",
       "      <td>0</td>\n",
       "      <td>0</td>\n",
       "      <td>2</td>\n",
       "      <td>1</td>\n",
       "      <td>0.0</td>\n",
       "      <td>Fiber optic</td>\n",
       "      <td>0.0</td>\n",
       "      <td>...</td>\n",
       "      <td>No internet service</td>\n",
       "      <td>No internet service</td>\n",
       "      <td>No internet service</td>\n",
       "      <td>No internet service</td>\n",
       "      <td>No internet service</td>\n",
       "      <td>No internet service</td>\n",
       "      <td>NaN</td>\n",
       "      <td>NaN</td>\n",
       "      <td>NaN</td>\n",
       "      <td>1398.275</td>\n",
       "    </tr>\n",
       "  </tbody>\n",
       "</table>\n",
       "<p>5 rows × 34 columns</p>\n",
       "</div>"
      ],
      "text/plain": [
       "   CustomerID  gender  Senior Citizen Partner Dependents  tenure PhoneService  \\\n",
       "0  7590-VHVEG  Female             0.0       1          0       1            0   \n",
       "1  5575-GNVDE    Male             0.0       0          0      34            1   \n",
       "2  3668-QPYBK    Male             0.0       0          0       2            1   \n",
       "3  7795-CFOCW    Male             0.0       0          0      45            0   \n",
       "4  9237-HQITU  Female             0.0       0          0       2            1   \n",
       "\n",
       "   MultpleLines Internet Service  Online Security  ...       OnlineSecurity  \\\n",
       "0           NaN              DSL              0.0  ...  No internet service   \n",
       "1           0.0              DSL              1.0  ...  No internet service   \n",
       "2           0.0              DSL              1.0  ...  No internet service   \n",
       "3           NaN              DSL              1.0  ...  No internet service   \n",
       "4           0.0      Fiber optic              0.0  ...  No internet service   \n",
       "\n",
       "          OnlineBackup     DeviceProtection          TechSupport  \\\n",
       "0  No internet service  No internet service  No internet service   \n",
       "1  No internet service  No internet service  No internet service   \n",
       "2  No internet service  No internet service  No internet service   \n",
       "3  No internet service  No internet service  No internet service   \n",
       "4  No internet service  No internet service  No internet service   \n",
       "\n",
       "           StreamingTV      StreamingMovies  PaperlessBilling PaymentMethod  \\\n",
       "0  No internet service  No internet service               NaN           NaN   \n",
       "1  No internet service  No internet service               NaN           NaN   \n",
       "2  No internet service  No internet service               NaN           NaN   \n",
       "3  No internet service  No internet service               NaN           NaN   \n",
       "4  No internet service  No internet service               NaN           NaN   \n",
       "\n",
       "   MonthlyCharges  TotalCharges  \n",
       "0             NaN      1398.275  \n",
       "1             NaN      1398.275  \n",
       "2             NaN      1398.275  \n",
       "3             NaN      1398.275  \n",
       "4             NaN      1398.275  \n",
       "\n",
       "[5 rows x 34 columns]"
      ]
     },
     "execution_count": 17,
     "metadata": {},
     "output_type": "execute_result"
    }
   ],
   "source": [
    "#drop column customerID and tenure that we don't need\n",
    "full_data.drop(columns= ['customerID'], axis=1, inplace=True)\n",
    "full_data.head()"
   ]
  },
  {
   "cell_type": "code",
   "execution_count": 18,
   "metadata": {},
   "outputs": [],
   "source": [
    "telco_data = full_data.copy()"
   ]
  },
  {
   "cell_type": "markdown",
   "metadata": {},
   "source": [
    "##### Divide customers into bins based on tenure e.g. for tenure < 12 months: assign a tenure group if 1-12, for tenure between 1 to 2 Yrs, tenure group of 13-24; so on..."
   ]
  },
  {
   "cell_type": "code",
   "execution_count": 19,
   "metadata": {},
   "outputs": [
    {
     "name": "stdout",
     "output_type": "stream",
     "text": [
      "72\n",
      "0\n"
     ]
    }
   ],
   "source": [
    "# Get the max tenure\n",
    "print(full_data['tenure'].max())\n",
    "\n",
    "# Get the min tenure\n",
    "print(full_data['tenure'].min())"
   ]
  },
  {
   "cell_type": "code",
   "execution_count": 20,
   "metadata": {},
   "outputs": [],
   "source": [
    "# Group the tenure in bins of 12 months\n",
    "labels = [\"{0} - {1}\".format(i, i + 11) for i in range(0, 73, 12)]\n",
    "bins = [i for i in range(0, 85, 12)]\n",
    "\n",
    "full_data['tenure_group'] = pd.cut(full_data.tenure, bins=bins, labels=labels, right=False)"
   ]
  },
  {
   "cell_type": "code",
   "execution_count": 21,
   "metadata": {},
   "outputs": [
    {
     "data": {
      "text/plain": [
       "0 - 11     1453\n",
       "60 - 71     821\n",
       "12 - 23     762\n",
       "24 - 35     628\n",
       "48 - 59     579\n",
       "36 - 47     543\n",
       "72 - 83     256\n",
       "Name: tenure_group, dtype: int64"
      ]
     },
     "execution_count": 21,
     "metadata": {},
     "output_type": "execute_result"
    }
   ],
   "source": [
    "full_data['tenure_group'].value_counts()"
   ]
  },
  {
   "cell_type": "code",
   "execution_count": 22,
   "metadata": {},
   "outputs": [],
   "source": [
    "full_data.drop(columns= ['tenure'], axis=1, inplace=True)"
   ]
  },
  {
   "cell_type": "code",
   "execution_count": 23,
   "metadata": {},
   "outputs": [
    {
     "name": "stdout",
     "output_type": "stream",
     "text": [
      "<class 'pandas.core.frame.DataFrame'>\n",
      "Int64Index: 5042 entries, 0 to 5042\n",
      "Data columns (total 34 columns):\n",
      " #   Column             Non-Null Count  Dtype   \n",
      "---  ------             --------------  -----   \n",
      " 0   CustomerID         2999 non-null   object  \n",
      " 1   gender             5042 non-null   object  \n",
      " 2   Senior Citizen     2999 non-null   float64 \n",
      " 3   Partner            5042 non-null   object  \n",
      " 4   Dependents         5042 non-null   object  \n",
      " 5   PhoneService       5042 non-null   object  \n",
      " 6   MultpleLines       2730 non-null   float64 \n",
      " 7   Internet Service   2999 non-null   object  \n",
      " 8   Online Security    2348 non-null   float64 \n",
      " 9   Online Backup      2348 non-null   float64 \n",
      " 10  Device Protection  2348 non-null   float64 \n",
      " 11  Tech Support       2348 non-null   float64 \n",
      " 12  Streaming TV       2348 non-null   float64 \n",
      " 13  Streaming Movies   2348 non-null   float64 \n",
      " 14  Contract           5042 non-null   object  \n",
      " 15  Paperless Billing  2999 non-null   float64 \n",
      " 16  Payment Method     2999 non-null   object  \n",
      " 17  Monthly Charges    2999 non-null   float64 \n",
      " 18  Total Charges      2994 non-null   float64 \n",
      " 19  Churn              5042 non-null   object  \n",
      " 20  SeniorCitizen      2043 non-null   object  \n",
      " 21  MultipleLines      5042 non-null   object  \n",
      " 22  InternetService    2043 non-null   object  \n",
      " 23  OnlineSecurity     5042 non-null   object  \n",
      " 24  OnlineBackup       5042 non-null   object  \n",
      " 25  DeviceProtection   5042 non-null   object  \n",
      " 26  TechSupport        5042 non-null   object  \n",
      " 27  StreamingTV        5042 non-null   object  \n",
      " 28  StreamingMovies    5042 non-null   object  \n",
      " 29  PaperlessBilling   2043 non-null   object  \n",
      " 30  PaymentMethod      2043 non-null   object  \n",
      " 31  MonthlyCharges     2043 non-null   float64 \n",
      " 32  TotalCharges       5042 non-null   float64 \n",
      " 33  tenure_group       5042 non-null   category\n",
      "dtypes: category(1), float64(13), object(20)\n",
      "memory usage: 950.5+ KB\n"
     ]
    }
   ],
   "source": [
    "full_data.info()"
   ]
  },
  {
   "cell_type": "markdown",
   "metadata": {},
   "source": [
    "#### Remove columns not required for processing"
   ]
  },
  {
   "cell_type": "code",
   "execution_count": 24,
   "metadata": {},
   "outputs": [
    {
     "data": {
      "text/plain": [
       "0.0    44.010313\n",
       "No     29.492265\n",
       "1.0    15.470052\n",
       "Yes    11.027370\n",
       "Name: Churn, dtype: float64"
      ]
     },
     "execution_count": 24,
     "metadata": {},
     "output_type": "execute_result"
    }
   ],
   "source": [
    "100*full_data['Churn'].value_counts()/len(full_data['Churn'])"
   ]
  },
  {
   "cell_type": "code",
   "execution_count": 25,
   "metadata": {},
   "outputs": [
    {
     "data": {
      "text/plain": [
       "0.0    2219\n",
       "No     1487\n",
       "1.0     780\n",
       "Yes     556\n",
       "Name: Churn, dtype: int64"
      ]
     },
     "execution_count": 25,
     "metadata": {},
     "output_type": "execute_result"
    }
   ],
   "source": [
    "full_data['Churn'].value_counts()"
   ]
  },
  {
   "cell_type": "markdown",
   "metadata": {},
   "source": [
    "Data is highly imbalanced, ratio = 73:26"
   ]
  },
  {
   "cell_type": "markdown",
   "metadata": {},
   "source": [
    "## DATA EXPLORATION - EDA"
   ]
  },
  {
   "cell_type": "markdown",
   "metadata": {},
   "source": [
    "### UNIVARIATE ANALYSIS"
   ]
  },
  {
   "cell_type": "markdown",
   "metadata": {},
   "source": [
    "1. Plot distribution of individual predictors by churn"
   ]
  },
  {
   "cell_type": "markdown",
   "metadata": {},
   "source": [
    "Tenure_group, Contract Type and Churn Type"
   ]
  },
  {
   "cell_type": "markdown",
   "metadata": {},
   "source": [
    "Negative Correlations (Likely to Decrease Churn):\n",
    "\n",
    "Variables with negative correlation coefficients (ranging from approximately -0.31 to -0.13) suggest that higher values in these variables are associated with a lower likelihood of customer churn. These variables might have a mitigating effect on churn. Factors related to these variables seem to encourage customer retention.\n",
    "\n",
    "Positive Correlations (Likely to Increase Churn):\n",
    "\n",
    "Variables with positive correlation coefficients (ranging from approximately 0.12 to 0.41) suggest that higher values in these variables are associated with a higher likelihood of customer churn. These variables might contribute to an increased risk of churn. Factors related to these variables seem to encourage customer attrition."
   ]
  },
  {
   "cell_type": "markdown",
   "metadata": {},
   "source": [
    "### FEATURE ENGINEERING"
   ]
  },
  {
   "cell_type": "code",
   "execution_count": 26,
   "metadata": {},
   "outputs": [],
   "source": [
    "telco_data['Churn'] = np.where(telco_data.Churn == 'Yes',1,0)"
   ]
  },
  {
   "cell_type": "markdown",
   "metadata": {},
   "source": [
    "This transforms the values in the 'Churn' column of our DataFrame It's converting categorical values into binary numeric values for further analysis and modeling.\n",
    "* If the value is 'Yes', it will be replaced with 1.\n",
    "* If the value is not 'Yes' (i.e., it's NO), it will be replaced with 0."
   ]
  },
  {
   "cell_type": "code",
   "execution_count": 27,
   "metadata": {},
   "outputs": [],
   "source": [
    "##creating our features and label\n",
    "\n",
    "X= telco_data.drop(\"Churn\", axis=1)\n",
    "y= telco_data.Churn"
   ]
  },
  {
   "cell_type": "code",
   "execution_count": 28,
   "metadata": {},
   "outputs": [],
   "source": [
    "X_train, X_test, y_train, y_test = train_test_split(X, y, test_size=0.20, random_state=42, stratify=y)"
   ]
  },
  {
   "cell_type": "markdown",
   "metadata": {},
   "source": [
    "We split the dataset into training and testing sets, along with their corresponding target variables.This help us evaluate the performance of our model on unseen data. The model will be trained on the training set and then tested on the testing set to assess its generalization ability."
   ]
  },
  {
   "cell_type": "code",
   "execution_count": 29,
   "metadata": {},
   "outputs": [],
   "source": [
    "##getting our categorical attributes \n",
    "cat_attr= [i for i in telco_data.drop([\"TotalCharges\", \"MonthlyCharges\",\"tenure\",\"Churn\"], axis= 1)]\n",
    "\n",
    "\n",
    "##getting our numerical attributes\n",
    "num_attr= [\"TotalCharges\", \"MonthlyCharges\",\"tenure\"]"
   ]
  },
  {
   "cell_type": "markdown",
   "metadata": {},
   "source": [
    "We separate the columns of a DataFrame (telco_data) into two lists: one for categorical attributes and another for numerical attributes. we also drops the specified columns (\"TotalCharges\", \"MonthlyCharges\", \"tenure\", \"Churn\") from the DataFrame along the columns axis (axis=1). This results in a DataFrame with only the remaining columns, which are categorical attributes."
   ]
  },
  {
   "cell_type": "code",
   "execution_count": 30,
   "metadata": {},
   "outputs": [],
   "source": [
    "# This pipeline will handle the standardize our numerical values\n",
    "\n",
    "# we are using mean because from our previous analysis, there were no outliers\n",
    "\n",
    "scaler= Pipeline([(\"scaler\", StandardScaler())])\n",
    "\n",
    "encoder= Pipeline([(\"one_hot\", OneHotEncoder())])"
   ]
  },
  {
   "cell_type": "markdown",
   "metadata": {},
   "source": [
    "We are setting up two pipelines: one for standardizing numerical values and another for one-hot encoding categorical values."
   ]
  },
  {
   "cell_type": "code",
   "execution_count": 31,
   "metadata": {},
   "outputs": [
    {
     "data": {
      "text/plain": [
       "ColumnTransformer(transformers=[('num_pipe',\n",
       "                                 Pipeline(steps=[('scaler', StandardScaler())]),\n",
       "                                 ['TotalCharges', 'MonthlyCharges', 'tenure']),\n",
       "                                ('cat_pipe',\n",
       "                                 Pipeline(steps=[('one_hot', OneHotEncoder())]),\n",
       "                                 ['CustomerID', 'gender', 'Senior Citizen',\n",
       "                                  'Partner', 'Dependents', 'PhoneService',\n",
       "                                  'MultpleLines', 'Internet Service',\n",
       "                                  'Online Security', 'Online Backup',\n",
       "                                  'Device Protection', 'Tech Support',\n",
       "                                  'Streaming TV', 'Streaming Movies',\n",
       "                                  'Contract', 'Paperless Billing',\n",
       "                                  'Payment Method', 'Monthly Charges',\n",
       "                                  'Total Charges', 'SeniorCitizen',\n",
       "                                  'MultipleLines', 'InternetService',\n",
       "                                  'OnlineSecurity', 'OnlineBackup',\n",
       "                                  'DeviceProtection', 'TechSupport',\n",
       "                                  'StreamingTV', 'StreamingMovies',\n",
       "                                  'PaperlessBilling', 'PaymentMethod'])])"
      ]
     },
     "execution_count": 31,
     "metadata": {},
     "output_type": "execute_result"
    }
   ],
   "source": [
    "##we are combining our numeric and categorical pipelines with a Columntransformer\n",
    "\n",
    "col_pipe= ColumnTransformer([(\"num_pipe\", scaler, num_attr),(\"cat_pipe\", encoder, cat_attr)])\n",
    "col_pipe"
   ]
  },
  {
   "cell_type": "markdown",
   "metadata": {},
   "source": [
    "## Creating a pipeline for each Classifier (ML Algorithm)\n",
    "\n",
    "#### DecisionTree CLassifier"
   ]
  },
  {
   "cell_type": "code",
   "execution_count": 32,
   "metadata": {},
   "outputs": [],
   "source": [
    "DTP= Pipeline([(\"coltrans\", col_pipe), \n",
    "              (\"model\", DecisionTreeClassifier(random_state= 100))\n",
    "              ])"
   ]
  },
  {
   "cell_type": "markdown",
   "metadata": {},
   "source": [
    "This pipeline encapsulates the entire machine learning workflow, including preprocessing and modeling, in a single object. It helps ensure consistent preprocessing when making predictions and simplifies the process of building and evaluating our models."
   ]
  },
  {
   "cell_type": "code",
   "execution_count": 33,
   "metadata": {},
   "outputs": [
    {
     "name": "stdout",
     "output_type": "stream",
     "text": [
      "CustomerID           1632\n",
      "gender                  0\n",
      "Senior Citizen       1632\n",
      "Partner                 0\n",
      "Dependents              0\n",
      "tenure                  0\n",
      "PhoneService            0\n",
      "MultpleLines         1847\n",
      "Internet Service     1632\n",
      "Online Security      2146\n",
      "Online Backup        2146\n",
      "Device Protection    2146\n",
      "Tech Support         2146\n",
      "Streaming TV         2146\n",
      "Streaming Movies     2146\n",
      "Contract                0\n",
      "Paperless Billing    1632\n",
      "Payment Method       1632\n",
      "Monthly Charges      1632\n",
      "Total Charges        1634\n",
      "SeniorCitizen        2401\n",
      "MultipleLines           0\n",
      "InternetService      2401\n",
      "OnlineSecurity          0\n",
      "OnlineBackup            0\n",
      "DeviceProtection        0\n",
      "TechSupport             0\n",
      "StreamingTV             0\n",
      "StreamingMovies         0\n",
      "PaperlessBilling     2401\n",
      "PaymentMethod        2401\n",
      "MonthlyCharges       2401\n",
      "TotalCharges            0\n",
      "dtype: int64\n"
     ]
    }
   ],
   "source": [
    "# Check for missing values in X_train\n",
    "missing_values = X_train.isnull().sum()\n",
    "print(missing_values)\n"
   ]
  },
  {
   "cell_type": "code",
   "execution_count": 34,
   "metadata": {},
   "outputs": [
    {
     "name": "stdout",
     "output_type": "stream",
     "text": [
      "0\n"
     ]
    }
   ],
   "source": [
    "# Check for missing values in y_train\n",
    "missing_values = y_train.isnull().sum()\n",
    "print(missing_values)"
   ]
  },
  {
   "cell_type": "code",
   "execution_count": 35,
   "metadata": {},
   "outputs": [
    {
     "data": {
      "text/plain": [
       "Index(['CustomerID', 'gender', 'Senior Citizen', 'Partner', 'Dependents',\n",
       "       'tenure', 'PhoneService', 'MultpleLines', 'Internet Service',\n",
       "       'Online Security', 'Online Backup', 'Device Protection', 'Tech Support',\n",
       "       'Streaming TV', 'Streaming Movies', 'Contract', 'Paperless Billing',\n",
       "       'Payment Method', 'Monthly Charges', 'Total Charges', 'SeniorCitizen',\n",
       "       'MultipleLines', 'InternetService', 'OnlineSecurity', 'OnlineBackup',\n",
       "       'DeviceProtection', 'TechSupport', 'StreamingTV', 'StreamingMovies',\n",
       "       'PaperlessBilling', 'PaymentMethod', 'MonthlyCharges', 'TotalCharges'],\n",
       "      dtype='object')"
      ]
     },
     "execution_count": 35,
     "metadata": {},
     "output_type": "execute_result"
    }
   ],
   "source": [
    "X_train.columns"
   ]
  },
  {
   "cell_type": "code",
   "execution_count": 36,
   "metadata": {},
   "outputs": [],
   "source": [
    "\n",
    "# Separate numeric and categorical columns\n",
    "numeric_cols = X_train.select_dtypes(include=['number']).columns\n",
    "categorical_cols = X_train.select_dtypes(include=['object']).columns\n",
    "\n",
    "# Impute missing values for numeric columns using the mean strategy\n",
    "numeric_imputer = SimpleImputer(strategy='median')\n",
    "X_train[numeric_cols] = numeric_imputer.fit_transform(X_train[numeric_cols])\n",
    "\n",
    "# Impute missing values for categorical columns using the most frequent strategy\n",
    "categorical_imputer = SimpleImputer(strategy='most_frequent')\n",
    "X_train[categorical_cols] = categorical_imputer.fit_transform(X_train[categorical_cols])\n",
    "\n",
    "# Now, your X_train should have missing values imputed for both numeric and categorical columns\n",
    "\n",
    "# Create transformers for each type of feature\n",
    "numeric_transformer = StandardScaler()\n",
    "categorical_transformer = OneHotEncoder(handle_unknown='ignore')  # Set handle_unknown to 'ignore'\n",
    "\n",
    "# Use ColumnTransformer to apply transformations to the right columns\n",
    "preprocessor = ColumnTransformer(\n",
    "    transformers=[\n",
    "        ('num', numeric_transformer, numeric_cols),\n",
    "        ('cat', categorical_transformer, categorical_cols)\n",
    "    ])\n",
    "\n",
    "\n",
    "# Now apply the same transformations to your test data\n",
    "# Impute missing values\n",
    "X_test[numeric_cols] = numeric_imputer.transform(X_test[numeric_cols])\n",
    "X_test[categorical_cols] = categorical_imputer.transform(X_test[categorical_cols])\n"
   ]
  },
  {
   "cell_type": "code",
   "execution_count": 37,
   "metadata": {},
   "outputs": [
    {
     "data": {
      "text/plain": [
       "Pipeline(steps=[('coltrans',\n",
       "                 ColumnTransformer(transformers=[('num_pipe',\n",
       "                                                  Pipeline(steps=[('scaler',\n",
       "                                                                   StandardScaler())]),\n",
       "                                                  ['TotalCharges',\n",
       "                                                   'MonthlyCharges',\n",
       "                                                   'tenure']),\n",
       "                                                 ('cat_pipe',\n",
       "                                                  Pipeline(steps=[('one_hot',\n",
       "                                                                   OneHotEncoder())]),\n",
       "                                                  ['CustomerID', 'gender',\n",
       "                                                   'Senior Citizen', 'Partner',\n",
       "                                                   'Dependents', 'PhoneService',\n",
       "                                                   'MultpleLines',\n",
       "                                                   'Internet Service',\n",
       "                                                   'Online Security',\n",
       "                                                   'On...\n",
       "                                                   'Tech Support',\n",
       "                                                   'Streaming TV',\n",
       "                                                   'Streaming Movies',\n",
       "                                                   'Contract',\n",
       "                                                   'Paperless Billing',\n",
       "                                                   'Payment Method',\n",
       "                                                   'Monthly Charges',\n",
       "                                                   'Total Charges',\n",
       "                                                   'SeniorCitizen',\n",
       "                                                   'MultipleLines',\n",
       "                                                   'InternetService',\n",
       "                                                   'OnlineSecurity',\n",
       "                                                   'OnlineBackup',\n",
       "                                                   'DeviceProtection',\n",
       "                                                   'TechSupport', 'StreamingTV',\n",
       "                                                   'StreamingMovies',\n",
       "                                                   'PaperlessBilling',\n",
       "                                                   'PaymentMethod'])])),\n",
       "                ('model', DecisionTreeClassifier(random_state=100))])"
      ]
     },
     "execution_count": 37,
     "metadata": {},
     "output_type": "execute_result"
    }
   ],
   "source": [
    "DTP.fit(X_train, y_train)"
   ]
  },
  {
   "cell_type": "code",
   "execution_count": 38,
   "metadata": {},
   "outputs": [
    {
     "data": {
      "text/plain": [
       "Pipeline(steps=[('coltrans',\n",
       "                 ColumnTransformer(transformers=[('num_pipe',\n",
       "                                                  Pipeline(steps=[('scaler',\n",
       "                                                                   StandardScaler())]),\n",
       "                                                  ['TotalCharges',\n",
       "                                                   'MonthlyCharges',\n",
       "                                                   'tenure']),\n",
       "                                                 ('cat_pipe',\n",
       "                                                  Pipeline(steps=[('one_hot',\n",
       "                                                                   OneHotEncoder())]),\n",
       "                                                  ['CustomerID', 'gender',\n",
       "                                                   'Senior Citizen', 'Partner',\n",
       "                                                   'Dependents', 'PhoneService',\n",
       "                                                   'MultpleLines',\n",
       "                                                   'Internet Service',\n",
       "                                                   'Online Security',\n",
       "                                                   'On...\n",
       "                                                   'Tech Support',\n",
       "                                                   'Streaming TV',\n",
       "                                                   'Streaming Movies',\n",
       "                                                   'Contract',\n",
       "                                                   'Paperless Billing',\n",
       "                                                   'Payment Method',\n",
       "                                                   'Monthly Charges',\n",
       "                                                   'Total Charges',\n",
       "                                                   'SeniorCitizen',\n",
       "                                                   'MultipleLines',\n",
       "                                                   'InternetService',\n",
       "                                                   'OnlineSecurity',\n",
       "                                                   'OnlineBackup',\n",
       "                                                   'DeviceProtection',\n",
       "                                                   'TechSupport', 'StreamingTV',\n",
       "                                                   'StreamingMovies',\n",
       "                                                   'PaperlessBilling',\n",
       "                                                   'PaymentMethod'])])),\n",
       "                ('model', DecisionTreeClassifier(random_state=100))])"
      ]
     },
     "execution_count": 38,
     "metadata": {},
     "output_type": "execute_result"
    }
   ],
   "source": [
    "DTP.fit(X_test, y_test)"
   ]
  },
  {
   "cell_type": "code",
   "execution_count": 39,
   "metadata": {},
   "outputs": [],
   "source": [
    "result_1 = DTP.predict(X_test)"
   ]
  },
  {
   "cell_type": "markdown",
   "metadata": {},
   "source": [
    "This Ensure that X_test is properly preprocessed using the same pipeline (DTP) that we fitted to the training data (X_train) to ensure consistent preprocessing transformations is applied.\n",
    "The resulting predictions (result_1) will be used for evaluation and analysis to assess the performance of our model."
   ]
  },
  {
   "cell_type": "code",
   "execution_count": 40,
   "metadata": {},
   "outputs": [
    {
     "name": "stdout",
     "output_type": "stream",
     "text": [
      "              precision    recall  f1-score   support\n",
      "\n",
      "           0       1.00      1.00      1.00       898\n",
      "           1       1.00      1.00      1.00       111\n",
      "\n",
      "    accuracy                           1.00      1009\n",
      "   macro avg       1.00      1.00      1.00      1009\n",
      "weighted avg       1.00      1.00      1.00      1009\n",
      "\n"
     ]
    }
   ],
   "source": [
    "print(classification_report(y_test,result_1))"
   ]
  },
  {
   "cell_type": "markdown",
   "metadata": {},
   "source": [
    "#### RandomForestClassifier"
   ]
  },
  {
   "cell_type": "code",
   "execution_count": 41,
   "metadata": {},
   "outputs": [],
   "source": [
    "RFP= Pipeline([(\"coltrans\", col_pipe), \n",
    "              (\"feature_selection\", SelectKBest(score_func=f_classif, k=10)),\n",
    "              (\"model\", RandomForestClassifier(n_estimators= 50, random_state= 100))\n",
    "              ])"
   ]
  },
  {
   "cell_type": "markdown",
   "metadata": {},
   "source": [
    "This pipeline encapsulates the entire machine learning workflow, including preprocessing, feature selection, and modeling, in a single object. It helps ensure consistent preprocessing and feature selection when making predictions and simplifies the process of building and evaluating our models."
   ]
  },
  {
   "cell_type": "code",
   "execution_count": 42,
   "metadata": {},
   "outputs": [
    {
     "data": {
      "text/plain": [
       "Pipeline(steps=[('coltrans',\n",
       "                 ColumnTransformer(transformers=[('num_pipe',\n",
       "                                                  Pipeline(steps=[('scaler',\n",
       "                                                                   StandardScaler())]),\n",
       "                                                  ['TotalCharges',\n",
       "                                                   'MonthlyCharges',\n",
       "                                                   'tenure']),\n",
       "                                                 ('cat_pipe',\n",
       "                                                  Pipeline(steps=[('one_hot',\n",
       "                                                                   OneHotEncoder())]),\n",
       "                                                  ['CustomerID', 'gender',\n",
       "                                                   'Senior Citizen', 'Partner',\n",
       "                                                   'Dependents', 'PhoneService',\n",
       "                                                   'MultpleLines',\n",
       "                                                   'Internet Service',\n",
       "                                                   'Online Security',\n",
       "                                                   'On...\n",
       "                                                   'Paperless Billing',\n",
       "                                                   'Payment Method',\n",
       "                                                   'Monthly Charges',\n",
       "                                                   'Total Charges',\n",
       "                                                   'SeniorCitizen',\n",
       "                                                   'MultipleLines',\n",
       "                                                   'InternetService',\n",
       "                                                   'OnlineSecurity',\n",
       "                                                   'OnlineBackup',\n",
       "                                                   'DeviceProtection',\n",
       "                                                   'TechSupport', 'StreamingTV',\n",
       "                                                   'StreamingMovies',\n",
       "                                                   'PaperlessBilling',\n",
       "                                                   'PaymentMethod'])])),\n",
       "                ('feature_selection', SelectKBest()),\n",
       "                ('model',\n",
       "                 RandomForestClassifier(n_estimators=50, random_state=100))])"
      ]
     },
     "execution_count": 42,
     "metadata": {},
     "output_type": "execute_result"
    }
   ],
   "source": [
    "RFP.fit(X_train, y_train)"
   ]
  },
  {
   "cell_type": "markdown",
   "metadata": {},
   "source": [
    "This Ensure that X_train is properly preprocessed and contains the same features as the training data you used to create the pipeline (col_pipe).\n",
    "After fitting the pipeline, the trained model is ready to make predictions using the predict() method."
   ]
  },
  {
   "cell_type": "code",
   "execution_count": 43,
   "metadata": {},
   "outputs": [
    {
     "data": {
      "text/plain": [
       "Pipeline(steps=[('coltrans',\n",
       "                 ColumnTransformer(transformers=[('num_pipe',\n",
       "                                                  Pipeline(steps=[('scaler',\n",
       "                                                                   StandardScaler())]),\n",
       "                                                  ['TotalCharges',\n",
       "                                                   'MonthlyCharges',\n",
       "                                                   'tenure']),\n",
       "                                                 ('cat_pipe',\n",
       "                                                  Pipeline(steps=[('one_hot',\n",
       "                                                                   OneHotEncoder())]),\n",
       "                                                  ['CustomerID', 'gender',\n",
       "                                                   'Senior Citizen', 'Partner',\n",
       "                                                   'Dependents', 'PhoneService',\n",
       "                                                   'MultpleLines',\n",
       "                                                   'Internet Service',\n",
       "                                                   'Online Security',\n",
       "                                                   'On...\n",
       "                                                   'Paperless Billing',\n",
       "                                                   'Payment Method',\n",
       "                                                   'Monthly Charges',\n",
       "                                                   'Total Charges',\n",
       "                                                   'SeniorCitizen',\n",
       "                                                   'MultipleLines',\n",
       "                                                   'InternetService',\n",
       "                                                   'OnlineSecurity',\n",
       "                                                   'OnlineBackup',\n",
       "                                                   'DeviceProtection',\n",
       "                                                   'TechSupport', 'StreamingTV',\n",
       "                                                   'StreamingMovies',\n",
       "                                                   'PaperlessBilling',\n",
       "                                                   'PaymentMethod'])])),\n",
       "                ('feature_selection', SelectKBest()),\n",
       "                ('model',\n",
       "                 RandomForestClassifier(n_estimators=50, random_state=100))])"
      ]
     },
     "execution_count": 43,
     "metadata": {},
     "output_type": "execute_result"
    }
   ],
   "source": [
    "RFP.fit(X_test, y_test)"
   ]
  },
  {
   "cell_type": "code",
   "execution_count": 44,
   "metadata": {},
   "outputs": [],
   "source": [
    "result_2 = RFP.predict(X_test)"
   ]
  },
  {
   "cell_type": "code",
   "execution_count": 45,
   "metadata": {},
   "outputs": [
    {
     "name": "stdout",
     "output_type": "stream",
     "text": [
      "              precision    recall  f1-score   support\n",
      "\n",
      "           0       0.93      0.96      0.94       898\n",
      "           1       0.56      0.45      0.50       111\n",
      "\n",
      "    accuracy                           0.90      1009\n",
      "   macro avg       0.74      0.70      0.72      1009\n",
      "weighted avg       0.89      0.90      0.90      1009\n",
      "\n"
     ]
    }
   ],
   "source": [
    "print(classification_report( y_test,result_2))"
   ]
  },
  {
   "cell_type": "markdown",
   "metadata": {},
   "source": [
    "#### Logistic RegressionClassifier "
   ]
  },
  {
   "cell_type": "code",
   "execution_count": 46,
   "metadata": {},
   "outputs": [],
   "source": [
    "LRP= Pipeline([(\"coltrans\", col_pipe), \n",
    "              (\"feature_selection\", SelectKBest(score_func=f_classif, k=10)),\n",
    "              (\"model\", LogisticRegression(random_state= 100))\n",
    "              ])"
   ]
  },
  {
   "cell_type": "code",
   "execution_count": 47,
   "metadata": {},
   "outputs": [
    {
     "data": {
      "text/plain": [
       "Pipeline(steps=[('coltrans',\n",
       "                 ColumnTransformer(transformers=[('num_pipe',\n",
       "                                                  Pipeline(steps=[('scaler',\n",
       "                                                                   StandardScaler())]),\n",
       "                                                  ['TotalCharges',\n",
       "                                                   'MonthlyCharges',\n",
       "                                                   'tenure']),\n",
       "                                                 ('cat_pipe',\n",
       "                                                  Pipeline(steps=[('one_hot',\n",
       "                                                                   OneHotEncoder())]),\n",
       "                                                  ['CustomerID', 'gender',\n",
       "                                                   'Senior Citizen', 'Partner',\n",
       "                                                   'Dependents', 'PhoneService',\n",
       "                                                   'MultpleLines',\n",
       "                                                   'Internet Service',\n",
       "                                                   'Online Security',\n",
       "                                                   'On...\n",
       "                                                   'Streaming Movies',\n",
       "                                                   'Contract',\n",
       "                                                   'Paperless Billing',\n",
       "                                                   'Payment Method',\n",
       "                                                   'Monthly Charges',\n",
       "                                                   'Total Charges',\n",
       "                                                   'SeniorCitizen',\n",
       "                                                   'MultipleLines',\n",
       "                                                   'InternetService',\n",
       "                                                   'OnlineSecurity',\n",
       "                                                   'OnlineBackup',\n",
       "                                                   'DeviceProtection',\n",
       "                                                   'TechSupport', 'StreamingTV',\n",
       "                                                   'StreamingMovies',\n",
       "                                                   'PaperlessBilling',\n",
       "                                                   'PaymentMethod'])])),\n",
       "                ('feature_selection', SelectKBest()),\n",
       "                ('model', LogisticRegression(random_state=100))])"
      ]
     },
     "execution_count": 47,
     "metadata": {},
     "output_type": "execute_result"
    }
   ],
   "source": [
    "LRP.fit(X_train, y_train)"
   ]
  },
  {
   "cell_type": "code",
   "execution_count": 48,
   "metadata": {},
   "outputs": [
    {
     "data": {
      "text/plain": [
       "Pipeline(steps=[('coltrans',\n",
       "                 ColumnTransformer(transformers=[('num_pipe',\n",
       "                                                  Pipeline(steps=[('scaler',\n",
       "                                                                   StandardScaler())]),\n",
       "                                                  ['TotalCharges',\n",
       "                                                   'MonthlyCharges',\n",
       "                                                   'tenure']),\n",
       "                                                 ('cat_pipe',\n",
       "                                                  Pipeline(steps=[('one_hot',\n",
       "                                                                   OneHotEncoder())]),\n",
       "                                                  ['CustomerID', 'gender',\n",
       "                                                   'Senior Citizen', 'Partner',\n",
       "                                                   'Dependents', 'PhoneService',\n",
       "                                                   'MultpleLines',\n",
       "                                                   'Internet Service',\n",
       "                                                   'Online Security',\n",
       "                                                   'On...\n",
       "                                                   'Streaming Movies',\n",
       "                                                   'Contract',\n",
       "                                                   'Paperless Billing',\n",
       "                                                   'Payment Method',\n",
       "                                                   'Monthly Charges',\n",
       "                                                   'Total Charges',\n",
       "                                                   'SeniorCitizen',\n",
       "                                                   'MultipleLines',\n",
       "                                                   'InternetService',\n",
       "                                                   'OnlineSecurity',\n",
       "                                                   'OnlineBackup',\n",
       "                                                   'DeviceProtection',\n",
       "                                                   'TechSupport', 'StreamingTV',\n",
       "                                                   'StreamingMovies',\n",
       "                                                   'PaperlessBilling',\n",
       "                                                   'PaymentMethod'])])),\n",
       "                ('feature_selection', SelectKBest()),\n",
       "                ('model', LogisticRegression(random_state=100))])"
      ]
     },
     "execution_count": 48,
     "metadata": {},
     "output_type": "execute_result"
    }
   ],
   "source": [
    "LRP.fit(X_test, y_test)"
   ]
  },
  {
   "cell_type": "code",
   "execution_count": 49,
   "metadata": {},
   "outputs": [],
   "source": [
    "result_3 = LRP.predict(X_test)"
   ]
  },
  {
   "cell_type": "code",
   "execution_count": 50,
   "metadata": {},
   "outputs": [
    {
     "name": "stdout",
     "output_type": "stream",
     "text": [
      "              precision    recall  f1-score   support\n",
      "\n",
      "           0       0.93      0.96      0.94       898\n",
      "           1       0.56      0.45      0.50       111\n",
      "\n",
      "    accuracy                           0.90      1009\n",
      "   macro avg       0.74      0.70      0.72      1009\n",
      "weighted avg       0.89      0.90      0.90      1009\n",
      "\n"
     ]
    }
   ],
   "source": [
    "print(classification_report(y_test,result_3))"
   ]
  },
  {
   "cell_type": "markdown",
   "metadata": {},
   "source": [
    "#### Support Vector Classifier (SVC)"
   ]
  },
  {
   "cell_type": "code",
   "execution_count": 51,
   "metadata": {},
   "outputs": [],
   "source": [
    "SVP= Pipeline([(\"coltrans\", col_pipe),  \n",
    "               (\"feature_selection: \", SelectKBest(score_func=f_classif, k= 10)),\n",
    "               (\"model\", SVC(random_state= 100))\n",
    "              ])"
   ]
  },
  {
   "cell_type": "code",
   "execution_count": 52,
   "metadata": {},
   "outputs": [
    {
     "data": {
      "text/plain": [
       "Pipeline(steps=[('coltrans',\n",
       "                 ColumnTransformer(transformers=[('num_pipe',\n",
       "                                                  Pipeline(steps=[('scaler',\n",
       "                                                                   StandardScaler())]),\n",
       "                                                  ['TotalCharges',\n",
       "                                                   'MonthlyCharges',\n",
       "                                                   'tenure']),\n",
       "                                                 ('cat_pipe',\n",
       "                                                  Pipeline(steps=[('one_hot',\n",
       "                                                                   OneHotEncoder())]),\n",
       "                                                  ['CustomerID', 'gender',\n",
       "                                                   'Senior Citizen', 'Partner',\n",
       "                                                   'Dependents', 'PhoneService',\n",
       "                                                   'MultpleLines',\n",
       "                                                   'Internet Service',\n",
       "                                                   'Online Security',\n",
       "                                                   'On...\n",
       "                                                   'Streaming Movies',\n",
       "                                                   'Contract',\n",
       "                                                   'Paperless Billing',\n",
       "                                                   'Payment Method',\n",
       "                                                   'Monthly Charges',\n",
       "                                                   'Total Charges',\n",
       "                                                   'SeniorCitizen',\n",
       "                                                   'MultipleLines',\n",
       "                                                   'InternetService',\n",
       "                                                   'OnlineSecurity',\n",
       "                                                   'OnlineBackup',\n",
       "                                                   'DeviceProtection',\n",
       "                                                   'TechSupport', 'StreamingTV',\n",
       "                                                   'StreamingMovies',\n",
       "                                                   'PaperlessBilling',\n",
       "                                                   'PaymentMethod'])])),\n",
       "                ('feature_selection: ', SelectKBest()),\n",
       "                ('model', SVC(random_state=100))])"
      ]
     },
     "execution_count": 52,
     "metadata": {},
     "output_type": "execute_result"
    }
   ],
   "source": [
    "SVP.fit(X_train, y_train)"
   ]
  },
  {
   "cell_type": "markdown",
   "metadata": {},
   "source": [
    "After creating and configuring the pipeline, you use the fit() method to train the model on your training data.\n",
    "The pipeline takes care of all the preprocessing, feature selection, and training steps in a sequential manner.\n",
    "Note:\n",
    "\n",
    "By Ensure that X_train is properly preprocessed and contains the same features as the training data you used to create the pipeline (col_pipe).\n",
    "After fitting the pipeline, the trained model is ready to make predictions using the predict() method."
   ]
  },
  {
   "cell_type": "code",
   "execution_count": 53,
   "metadata": {},
   "outputs": [
    {
     "data": {
      "text/plain": [
       "Pipeline(steps=[('coltrans',\n",
       "                 ColumnTransformer(transformers=[('num_pipe',\n",
       "                                                  Pipeline(steps=[('scaler',\n",
       "                                                                   StandardScaler())]),\n",
       "                                                  ['TotalCharges',\n",
       "                                                   'MonthlyCharges',\n",
       "                                                   'tenure']),\n",
       "                                                 ('cat_pipe',\n",
       "                                                  Pipeline(steps=[('one_hot',\n",
       "                                                                   OneHotEncoder())]),\n",
       "                                                  ['CustomerID', 'gender',\n",
       "                                                   'Senior Citizen', 'Partner',\n",
       "                                                   'Dependents', 'PhoneService',\n",
       "                                                   'MultpleLines',\n",
       "                                                   'Internet Service',\n",
       "                                                   'Online Security',\n",
       "                                                   'On...\n",
       "                                                   'Streaming Movies',\n",
       "                                                   'Contract',\n",
       "                                                   'Paperless Billing',\n",
       "                                                   'Payment Method',\n",
       "                                                   'Monthly Charges',\n",
       "                                                   'Total Charges',\n",
       "                                                   'SeniorCitizen',\n",
       "                                                   'MultipleLines',\n",
       "                                                   'InternetService',\n",
       "                                                   'OnlineSecurity',\n",
       "                                                   'OnlineBackup',\n",
       "                                                   'DeviceProtection',\n",
       "                                                   'TechSupport', 'StreamingTV',\n",
       "                                                   'StreamingMovies',\n",
       "                                                   'PaperlessBilling',\n",
       "                                                   'PaymentMethod'])])),\n",
       "                ('feature_selection: ', SelectKBest()),\n",
       "                ('model', SVC(random_state=100))])"
      ]
     },
     "execution_count": 53,
     "metadata": {},
     "output_type": "execute_result"
    }
   ],
   "source": [
    "SVP.fit(X_test, y_test)"
   ]
  },
  {
   "cell_type": "code",
   "execution_count": 54,
   "metadata": {},
   "outputs": [],
   "source": [
    "result_4 = SVP.predict(X_test)"
   ]
  },
  {
   "cell_type": "code",
   "execution_count": 55,
   "metadata": {},
   "outputs": [
    {
     "name": "stdout",
     "output_type": "stream",
     "text": [
      "              precision    recall  f1-score   support\n",
      "\n",
      "           0       0.93      0.96      0.94       898\n",
      "           1       0.56      0.45      0.50       111\n",
      "\n",
      "    accuracy                           0.90      1009\n",
      "   macro avg       0.74      0.70      0.72      1009\n",
      "weighted avg       0.89      0.90      0.90      1009\n",
      "\n"
     ]
    }
   ],
   "source": [
    "print(classification_report(y_test, result_4))"
   ]
  },
  {
   "cell_type": "code",
   "execution_count": 56,
   "metadata": {},
   "outputs": [
    {
     "name": "stdout",
     "output_type": "stream",
     "text": [
      "The performance of DTP is: \n",
      "\n",
      "               precision    recall  f1-score   support\n",
      "\n",
      "           0       1.00      1.00      1.00       898\n",
      "           1       1.00      1.00      1.00       111\n",
      "\n",
      "    accuracy                           1.00      1009\n",
      "   macro avg       1.00      1.00      1.00      1009\n",
      "weighted avg       1.00      1.00      1.00      1009\n",
      "\n",
      "The performance of RFP is: \n",
      "\n",
      "               precision    recall  f1-score   support\n",
      "\n",
      "           0       0.93      0.96      0.94       898\n",
      "           1       0.56      0.45      0.50       111\n",
      "\n",
      "    accuracy                           0.90      1009\n",
      "   macro avg       0.74      0.70      0.72      1009\n",
      "weighted avg       0.89      0.90      0.90      1009\n",
      "\n",
      "The performance of LRP is: \n",
      "\n",
      "               precision    recall  f1-score   support\n",
      "\n",
      "           0       0.93      0.96      0.94       898\n",
      "           1       0.56      0.45      0.50       111\n",
      "\n",
      "    accuracy                           0.90      1009\n",
      "   macro avg       0.74      0.70      0.72      1009\n",
      "weighted avg       0.89      0.90      0.90      1009\n",
      "\n",
      "The performance of SVP is: \n",
      "\n",
      "               precision    recall  f1-score   support\n",
      "\n",
      "           0       0.93      0.96      0.94       898\n",
      "           1       0.56      0.45      0.50       111\n",
      "\n",
      "    accuracy                           0.90      1009\n",
      "   macro avg       0.74      0.70      0.72      1009\n",
      "weighted avg       0.89      0.90      0.90      1009\n",
      "\n"
     ]
    }
   ],
   "source": [
    "#### Results after base modeling:\n",
    "\n",
    "base_result= {\"DTP\": result_1, \"RFP\":result_2, \"LRP\": result_3, \"SVP\":result_4}\n",
    "\n",
    "for key, value in base_result.items():\n",
    "    \n",
    "    print(f\"The performance of {key} is: \\n\\n\", classification_report(y_test, value))"
   ]
  },
  {
   "cell_type": "markdown",
   "metadata": {},
   "source": [
    "### Dealing with Imbalance\n",
    "\n",
    "In this section, we are going to see how functions like:\n",
    "\n",
    "Class_weight for models that we will be using class weight, i will be appending \"_CW\" to the name to signify class_weight\n",
    "\n",
    "SMOTE for models that we will be using class weight, i will be appending \"_SMO\" to the name to signify SMOTE\n",
    "affect a model's performance"
   ]
  },
  {
   "cell_type": "markdown",
   "metadata": {},
   "source": [
    "## Using Class_Weight to Handle imbalance"
   ]
  },
  {
   "cell_type": "code",
   "execution_count": 57,
   "metadata": {},
   "outputs": [],
   "source": [
    "##initializing our class weight for each class\n",
    "\n",
    "class_weights = compute_class_weight('balanced', classes=[0, 1], y=y_train)"
   ]
  },
  {
   "cell_type": "markdown",
   "metadata": {},
   "source": [
    "We are calculating class weights for each class in a binary classification problem. Class weights are used to address class imbalance in the training data, where one class might have significantly more samples than the other. They help the model to give more accurate predictions for both classes by considering the underlying class distribution."
   ]
  },
  {
   "cell_type": "code",
   "execution_count": 58,
   "metadata": {},
   "outputs": [],
   "source": [
    "##assigning our weight to the respective class \n",
    "\n",
    "weight= dict(zip([0, 1], class_weights))"
   ]
  },
  {
   "cell_type": "markdown",
   "metadata": {},
   "source": [
    " Here we are creating a dictionary that maps class labels to their corresponding class weights. This dictionary will be used to provide custom class weights to a machine learning model during training. This helps the model learn from the underrepresented class more effectively."
   ]
  },
  {
   "cell_type": "markdown",
   "metadata": {},
   "source": [
    "#### Decision Tree"
   ]
  },
  {
   "cell_type": "code",
   "execution_count": 59,
   "metadata": {},
   "outputs": [],
   "source": [
    "CW_DTP = Pipeline([\n",
    "    (\"coltrans\", col_pipe),\n",
    "    (\"feature_selection\", SelectKBest(score_func=f_classif, k=10)),\n",
    "    (\"model\", DecisionTreeClassifier(random_state= 100,class_weight= weight))\n",
    "])"
   ]
  },
  {
   "cell_type": "markdown",
   "metadata": {},
   "source": [
    "The custom class weights (weight) are assigned to the Decision Tree classifier through the class_weight parameter, which allows the model to address class imbalance during training."
   ]
  },
  {
   "cell_type": "code",
   "execution_count": 60,
   "metadata": {},
   "outputs": [
    {
     "data": {
      "text/plain": [
       "Pipeline(steps=[('coltrans',\n",
       "                 ColumnTransformer(transformers=[('num_pipe',\n",
       "                                                  Pipeline(steps=[('scaler',\n",
       "                                                                   StandardScaler())]),\n",
       "                                                  ['TotalCharges',\n",
       "                                                   'MonthlyCharges',\n",
       "                                                   'tenure']),\n",
       "                                                 ('cat_pipe',\n",
       "                                                  Pipeline(steps=[('one_hot',\n",
       "                                                                   OneHotEncoder())]),\n",
       "                                                  ['CustomerID', 'gender',\n",
       "                                                   'Senior Citizen', 'Partner',\n",
       "                                                   'Dependents', 'PhoneService',\n",
       "                                                   'MultpleLines',\n",
       "                                                   'Internet Service',\n",
       "                                                   'Online Security',\n",
       "                                                   'On...\n",
       "                                                   'Monthly Charges',\n",
       "                                                   'Total Charges',\n",
       "                                                   'SeniorCitizen',\n",
       "                                                   'MultipleLines',\n",
       "                                                   'InternetService',\n",
       "                                                   'OnlineSecurity',\n",
       "                                                   'OnlineBackup',\n",
       "                                                   'DeviceProtection',\n",
       "                                                   'TechSupport', 'StreamingTV',\n",
       "                                                   'StreamingMovies',\n",
       "                                                   'PaperlessBilling',\n",
       "                                                   'PaymentMethod'])])),\n",
       "                ('feature_selection', SelectKBest()),\n",
       "                ('model',\n",
       "                 DecisionTreeClassifier(class_weight={0: 0.5620122630992196,\n",
       "                                                      1: 4.531460674157303},\n",
       "                                        random_state=100))])"
      ]
     },
     "execution_count": 60,
     "metadata": {},
     "output_type": "execute_result"
    }
   ],
   "source": [
    "CW_DTP.fit(X_train, y_train)"
   ]
  },
  {
   "cell_type": "code",
   "execution_count": 61,
   "metadata": {},
   "outputs": [
    {
     "data": {
      "text/plain": [
       "Pipeline(steps=[('coltrans',\n",
       "                 ColumnTransformer(transformers=[('num_pipe',\n",
       "                                                  Pipeline(steps=[('scaler',\n",
       "                                                                   StandardScaler())]),\n",
       "                                                  ['TotalCharges',\n",
       "                                                   'MonthlyCharges',\n",
       "                                                   'tenure']),\n",
       "                                                 ('cat_pipe',\n",
       "                                                  Pipeline(steps=[('one_hot',\n",
       "                                                                   OneHotEncoder())]),\n",
       "                                                  ['CustomerID', 'gender',\n",
       "                                                   'Senior Citizen', 'Partner',\n",
       "                                                   'Dependents', 'PhoneService',\n",
       "                                                   'MultpleLines',\n",
       "                                                   'Internet Service',\n",
       "                                                   'Online Security',\n",
       "                                                   'On...\n",
       "                                                   'Monthly Charges',\n",
       "                                                   'Total Charges',\n",
       "                                                   'SeniorCitizen',\n",
       "                                                   'MultipleLines',\n",
       "                                                   'InternetService',\n",
       "                                                   'OnlineSecurity',\n",
       "                                                   'OnlineBackup',\n",
       "                                                   'DeviceProtection',\n",
       "                                                   'TechSupport', 'StreamingTV',\n",
       "                                                   'StreamingMovies',\n",
       "                                                   'PaperlessBilling',\n",
       "                                                   'PaymentMethod'])])),\n",
       "                ('feature_selection', SelectKBest()),\n",
       "                ('model',\n",
       "                 DecisionTreeClassifier(class_weight={0: 0.5620122630992196,\n",
       "                                                      1: 4.531460674157303},\n",
       "                                        random_state=100))])"
      ]
     },
     "execution_count": 61,
     "metadata": {},
     "output_type": "execute_result"
    }
   ],
   "source": [
    "CW_DTP.fit(X_test, y_test)"
   ]
  },
  {
   "cell_type": "code",
   "execution_count": 62,
   "metadata": {},
   "outputs": [],
   "source": [
    "result_1_1 = CW_DTP.predict(X_test)"
   ]
  },
  {
   "cell_type": "markdown",
   "metadata": {},
   "source": [
    "Here we are using the pipeline CW_DTP to make predictions on the testing data (X_test). "
   ]
  },
  {
   "cell_type": "code",
   "execution_count": 63,
   "metadata": {},
   "outputs": [
    {
     "name": "stdout",
     "output_type": "stream",
     "text": [
      "              precision    recall  f1-score   support\n",
      "\n",
      "           0       0.99      0.79      0.88       898\n",
      "           1       0.36      0.94      0.52       111\n",
      "\n",
      "    accuracy                           0.81      1009\n",
      "   macro avg       0.68      0.87      0.70      1009\n",
      "weighted avg       0.92      0.81      0.84      1009\n",
      "\n"
     ]
    }
   ],
   "source": [
    "print(classification_report(y_test, result_1_1))"
   ]
  },
  {
   "cell_type": "markdown",
   "metadata": {},
   "source": [
    "From the above output we can see that:\n",
    "\n",
    "* Precision: For class 0, the precision is 0.87, which means that when the model predicts class 0, it is correct around 87% of the time. For class 1, the precision is 0.50, indicating that when the model predicts class 1, it is correct around 50% of the time.\n",
    "\n",
    "* Recall: For class 0, the recall is 0.75, which means that out of all the actual instances of class 0 in the dataset, the model correctly identified 75% of them. For class 1, the recall is 0.70, indicating that the model correctly identified 70% of the actual instances of class 1.\n",
    "\n",
    "* F1-Score: The F1-score is a balance between precision and recall. For class 0, the F1-score is 0.81, and for class 1, it is 0.58. The F1-score takes into account both false positives and false negatives, providing a balanced measure of a model's performance.\n",
    "\n",
    "* Accuracy: The overall accuracy of the model is 0.74 or 74%. This means that the model correctly classified 74% of all instances in the testing data.\n",
    "\n",
    "* Macro Average: The macro average of precision, recall, and F1-score is calculated by taking the average of these metrics across both classes. The macro average precision is 0.69, recall is 0.72, and F1-score is 0.69.\n",
    "\n",
    "* Weighted Average: The weighted average takes into account the number of instances in each class. It gives more weight to the class with more instances. The weighted average precision is 0.77, recall is 0.74, and F1-score is 0.75.\n",
    "\n",
    "#### Interpretation:\n",
    "\n",
    "* The model has better precision for class 0 than for class 1, which means it's more accurate in predicting class 0.\n",
    "* The recall for class 1 is higher than for class 0, indicating that the model is better at identifying class 1 instances.\n",
    "* The F1-score provides a balanced measure considering both precision and recall. It's a good metric to assess the overall performance of the model.\n",
    "* The accuracy is decent at 74%, but it's essential to consider precision, recall, and F1-score, especially in cases of class imbalance.\n",
    "* The macro and weighted averages give a summarized view of the model's performance across classes, with weighted averages considering class distribution.\n",
    "\n",
    "#### Conclusion:\n",
    "\n",
    "The analysis of the classification report suggests that the model might be better at identifying instances of class 1, but it needs further evaluation, optimization, or potential handling of class imbalance to improve overall performance."
   ]
  },
  {
   "cell_type": "markdown",
   "metadata": {},
   "source": [
    "#### Random Forest Class Weight"
   ]
  },
  {
   "cell_type": "code",
   "execution_count": 64,
   "metadata": {},
   "outputs": [],
   "source": [
    "CW_RFC= Pipeline([(\"coltrans\", col_pipe), \n",
    "                (\"feature_selection\", SelectKBest(score_func=f_classif, k=10)),\n",
    "               (\"model\",RandomForestClassifier(random_state= 100, n_estimators= 50, class_weight=weight))\n",
    "              ])"
   ]
  },
  {
   "cell_type": "code",
   "execution_count": 65,
   "metadata": {},
   "outputs": [
    {
     "data": {
      "text/plain": [
       "Pipeline(steps=[('coltrans',\n",
       "                 ColumnTransformer(transformers=[('num_pipe',\n",
       "                                                  Pipeline(steps=[('scaler',\n",
       "                                                                   StandardScaler())]),\n",
       "                                                  ['TotalCharges',\n",
       "                                                   'MonthlyCharges',\n",
       "                                                   'tenure']),\n",
       "                                                 ('cat_pipe',\n",
       "                                                  Pipeline(steps=[('one_hot',\n",
       "                                                                   OneHotEncoder())]),\n",
       "                                                  ['CustomerID', 'gender',\n",
       "                                                   'Senior Citizen', 'Partner',\n",
       "                                                   'Dependents', 'PhoneService',\n",
       "                                                   'MultpleLines',\n",
       "                                                   'Internet Service',\n",
       "                                                   'Online Security',\n",
       "                                                   'On...\n",
       "                                                   'Total Charges',\n",
       "                                                   'SeniorCitizen',\n",
       "                                                   'MultipleLines',\n",
       "                                                   'InternetService',\n",
       "                                                   'OnlineSecurity',\n",
       "                                                   'OnlineBackup',\n",
       "                                                   'DeviceProtection',\n",
       "                                                   'TechSupport', 'StreamingTV',\n",
       "                                                   'StreamingMovies',\n",
       "                                                   'PaperlessBilling',\n",
       "                                                   'PaymentMethod'])])),\n",
       "                ('feature_selection', SelectKBest()),\n",
       "                ('model',\n",
       "                 RandomForestClassifier(class_weight={0: 0.5620122630992196,\n",
       "                                                      1: 4.531460674157303},\n",
       "                                        n_estimators=50, random_state=100))])"
      ]
     },
     "execution_count": 65,
     "metadata": {},
     "output_type": "execute_result"
    }
   ],
   "source": [
    "CW_RFC.fit(X_train, y_train)"
   ]
  },
  {
   "cell_type": "code",
   "execution_count": 66,
   "metadata": {},
   "outputs": [
    {
     "data": {
      "text/plain": [
       "Pipeline(steps=[('coltrans',\n",
       "                 ColumnTransformer(transformers=[('num_pipe',\n",
       "                                                  Pipeline(steps=[('scaler',\n",
       "                                                                   StandardScaler())]),\n",
       "                                                  ['TotalCharges',\n",
       "                                                   'MonthlyCharges',\n",
       "                                                   'tenure']),\n",
       "                                                 ('cat_pipe',\n",
       "                                                  Pipeline(steps=[('one_hot',\n",
       "                                                                   OneHotEncoder())]),\n",
       "                                                  ['CustomerID', 'gender',\n",
       "                                                   'Senior Citizen', 'Partner',\n",
       "                                                   'Dependents', 'PhoneService',\n",
       "                                                   'MultpleLines',\n",
       "                                                   'Internet Service',\n",
       "                                                   'Online Security',\n",
       "                                                   'On...\n",
       "                                                   'Total Charges',\n",
       "                                                   'SeniorCitizen',\n",
       "                                                   'MultipleLines',\n",
       "                                                   'InternetService',\n",
       "                                                   'OnlineSecurity',\n",
       "                                                   'OnlineBackup',\n",
       "                                                   'DeviceProtection',\n",
       "                                                   'TechSupport', 'StreamingTV',\n",
       "                                                   'StreamingMovies',\n",
       "                                                   'PaperlessBilling',\n",
       "                                                   'PaymentMethod'])])),\n",
       "                ('feature_selection', SelectKBest()),\n",
       "                ('model',\n",
       "                 RandomForestClassifier(class_weight={0: 0.5620122630992196,\n",
       "                                                      1: 4.531460674157303},\n",
       "                                        n_estimators=50, random_state=100))])"
      ]
     },
     "execution_count": 66,
     "metadata": {},
     "output_type": "execute_result"
    }
   ],
   "source": [
    "CW_RFC.fit(X_test, y_test)"
   ]
  },
  {
   "cell_type": "code",
   "execution_count": 67,
   "metadata": {},
   "outputs": [],
   "source": [
    "result_2_2 = CW_RFC.predict(X_test)"
   ]
  },
  {
   "cell_type": "code",
   "execution_count": 68,
   "metadata": {},
   "outputs": [
    {
     "name": "stdout",
     "output_type": "stream",
     "text": [
      "              precision    recall  f1-score   support\n",
      "\n",
      "           0       0.99      0.79      0.88       898\n",
      "           1       0.36      0.94      0.52       111\n",
      "\n",
      "    accuracy                           0.81      1009\n",
      "   macro avg       0.68      0.87      0.70      1009\n",
      "weighted avg       0.92      0.81      0.84      1009\n",
      "\n"
     ]
    }
   ],
   "source": [
    "print(classification_report(y_test, result_2_2))"
   ]
  },
  {
   "cell_type": "markdown",
   "metadata": {},
   "source": [
    "From the above output we can see that:\n",
    "\n",
    "* Precision: For class 0, the precision is 0.86, indicating that when the model predicts class 0, it is correct around 86% of the time. For class 1, the precision is 0.52, indicating that when the model predicts class 1, it is correct around 52% of the time.\n",
    "\n",
    "* Recall: For class 0, the recall is 0.78, indicating that out of all the actual instances of class 0 in the dataset, the model correctly identified 78% of them. For class 1, the recall is 0.65, indicating that the model correctly identified 65% of the actual instances of class 1.\n",
    "\n",
    "* F1-Score: The F1-score is a balance between precision and recall. For class 0, the F1-score is 0.82, and for class 1, it is 0.57. The F1-score provides a balanced measure of a model's performance.\n",
    "\n",
    "* Accuracy: The overall accuracy of the model is 0.75 or 75%. This means that the model correctly classified 75% of all instances in the testing data.\n",
    "\n",
    "* Macro Average: The macro average of precision, recall, and F1-score is calculated by taking the average of these metrics across both classes. The macro average precision is 0.69, recall is 0.71, and F1-score is 0.70.\n",
    "\n",
    "* Weighted Average: The weighted average takes into account the number of instances in each class. It gives more weight to the class with more instances. The weighted average precision is 0.77, recall is 0.75, and F1-score is 0.75.\n",
    "\n",
    "#### Interpretation:\n",
    "\n",
    "* Similar to the previous analysis, the model has better precision for class 0 than for class 1.\n",
    "* The recall for class 1 is improved compared to the previous model, indicating that the model is better at identifying class 1 instances.\n",
    "* The F1-score provides a balanced measure considering both precision and recall.\n",
    "* The accuracy is decent at 75%, but as before, it's essential to consider precision, recall, and F1-score, especially in cases of class imbalance.\n",
    "* The macro and weighted averages give a summarized view of the model's performance across classes, with weighted averages considering class distribution.\n",
    "\n",
    "#### Conclusion:\n",
    "\n",
    "The analysis of the classification report suggests that the model's performance has improved compared to the previous model in terms of recall for class 1. However, further evaluation, optimization, or handling of class imbalance may still be necessary to achieve even better performance."
   ]
  },
  {
   "cell_type": "markdown",
   "metadata": {},
   "source": [
    "#### Logistic RegressionClassifier "
   ]
  },
  {
   "cell_type": "code",
   "execution_count": 69,
   "metadata": {},
   "outputs": [],
   "source": [
    "CW_LRP= Pipeline([(\"coltrans\", col_pipe),  \n",
    "            (\"feature_selection\", SelectKBest(score_func=f_classif, k=10)),\n",
    "            (\"model\", LogisticRegression(random_state=100,class_weight=weight))\n",
    "            ])"
   ]
  },
  {
   "cell_type": "code",
   "execution_count": 70,
   "metadata": {},
   "outputs": [
    {
     "data": {
      "text/plain": [
       "Pipeline(steps=[('coltrans',\n",
       "                 ColumnTransformer(transformers=[('num_pipe',\n",
       "                                                  Pipeline(steps=[('scaler',\n",
       "                                                                   StandardScaler())]),\n",
       "                                                  ['TotalCharges',\n",
       "                                                   'MonthlyCharges',\n",
       "                                                   'tenure']),\n",
       "                                                 ('cat_pipe',\n",
       "                                                  Pipeline(steps=[('one_hot',\n",
       "                                                                   OneHotEncoder())]),\n",
       "                                                  ['CustomerID', 'gender',\n",
       "                                                   'Senior Citizen', 'Partner',\n",
       "                                                   'Dependents', 'PhoneService',\n",
       "                                                   'MultpleLines',\n",
       "                                                   'Internet Service',\n",
       "                                                   'Online Security',\n",
       "                                                   'On...\n",
       "                                                   'Monthly Charges',\n",
       "                                                   'Total Charges',\n",
       "                                                   'SeniorCitizen',\n",
       "                                                   'MultipleLines',\n",
       "                                                   'InternetService',\n",
       "                                                   'OnlineSecurity',\n",
       "                                                   'OnlineBackup',\n",
       "                                                   'DeviceProtection',\n",
       "                                                   'TechSupport', 'StreamingTV',\n",
       "                                                   'StreamingMovies',\n",
       "                                                   'PaperlessBilling',\n",
       "                                                   'PaymentMethod'])])),\n",
       "                ('feature_selection', SelectKBest()),\n",
       "                ('model',\n",
       "                 LogisticRegression(class_weight={0: 0.5620122630992196,\n",
       "                                                  1: 4.531460674157303},\n",
       "                                    random_state=100))])"
      ]
     },
     "execution_count": 70,
     "metadata": {},
     "output_type": "execute_result"
    }
   ],
   "source": [
    "CW_LRP.fit(X_train, y_train)"
   ]
  },
  {
   "cell_type": "code",
   "execution_count": 71,
   "metadata": {},
   "outputs": [
    {
     "data": {
      "text/plain": [
       "Pipeline(steps=[('coltrans',\n",
       "                 ColumnTransformer(transformers=[('num_pipe',\n",
       "                                                  Pipeline(steps=[('scaler',\n",
       "                                                                   StandardScaler())]),\n",
       "                                                  ['TotalCharges',\n",
       "                                                   'MonthlyCharges',\n",
       "                                                   'tenure']),\n",
       "                                                 ('cat_pipe',\n",
       "                                                  Pipeline(steps=[('one_hot',\n",
       "                                                                   OneHotEncoder())]),\n",
       "                                                  ['CustomerID', 'gender',\n",
       "                                                   'Senior Citizen', 'Partner',\n",
       "                                                   'Dependents', 'PhoneService',\n",
       "                                                   'MultpleLines',\n",
       "                                                   'Internet Service',\n",
       "                                                   'Online Security',\n",
       "                                                   'On...\n",
       "                                                   'Monthly Charges',\n",
       "                                                   'Total Charges',\n",
       "                                                   'SeniorCitizen',\n",
       "                                                   'MultipleLines',\n",
       "                                                   'InternetService',\n",
       "                                                   'OnlineSecurity',\n",
       "                                                   'OnlineBackup',\n",
       "                                                   'DeviceProtection',\n",
       "                                                   'TechSupport', 'StreamingTV',\n",
       "                                                   'StreamingMovies',\n",
       "                                                   'PaperlessBilling',\n",
       "                                                   'PaymentMethod'])])),\n",
       "                ('feature_selection', SelectKBest()),\n",
       "                ('model',\n",
       "                 LogisticRegression(class_weight={0: 0.5620122630992196,\n",
       "                                                  1: 4.531460674157303},\n",
       "                                    random_state=100))])"
      ]
     },
     "execution_count": 71,
     "metadata": {},
     "output_type": "execute_result"
    }
   ],
   "source": [
    "CW_LRP.fit(X_test, y_test)"
   ]
  },
  {
   "cell_type": "code",
   "execution_count": 72,
   "metadata": {},
   "outputs": [],
   "source": [
    "result_3_3 = CW_LRP.predict(X_test)"
   ]
  },
  {
   "cell_type": "code",
   "execution_count": 73,
   "metadata": {},
   "outputs": [
    {
     "name": "stdout",
     "output_type": "stream",
     "text": [
      "              precision    recall  f1-score   support\n",
      "\n",
      "           0       0.97      0.84      0.90       898\n",
      "           1       0.38      0.79      0.52       111\n",
      "\n",
      "    accuracy                           0.84      1009\n",
      "   macro avg       0.68      0.82      0.71      1009\n",
      "weighted avg       0.91      0.84      0.86      1009\n",
      "\n"
     ]
    }
   ],
   "source": [
    "print(classification_report(y_test, result_3_3))"
   ]
  },
  {
   "cell_type": "markdown",
   "metadata": {},
   "source": [
    "From the above output we can see that:\n",
    "\n",
    "* Precision: For class 0, the precision is 0.91, indicating that when the model predicts class 0, it is correct around 91% of the time. For class 1, the precision is 0.50, indicating that when the model predicts class 1, it is correct around 50% of the time.\n",
    "\n",
    "* Recall: For class 0, the recall is 0.71, indicating that out of all the actual instances of class 0 in the dataset, the model correctly identified 71% of them. For class 1, the recall is 0.79, indicating that the model correctly identified 79% of the actual instances of class 1.\n",
    "\n",
    "* F1-Score: The F1-score is a balance between precision and recall. For class 0, the F1-score is 0.80, and for class 1, it is 0.61. The F1-score provides a balanced measure of a model's performance.\n",
    "\n",
    "* Accuracy: The overall accuracy of the model is 0.73 or 73%. This means that the model correctly classified 73% of all instances in the testing data.\n",
    "\n",
    "* Macro Average: The macro average of precision, recall, and F1-score is calculated by taking the average of these metrics across both classes. The macro average precision is 0.70, recall is 0.75, and F1-score is 0.71.\n",
    "\n",
    "* Weighted Average: The weighted average takes into account the number of instances in each class. It gives more weight to the class with more instances. The weighted average precision is 0.80, recall is 0.73, and F1-score is 0.75.\n",
    "\n",
    "#### Interpretation:\n",
    "\n",
    "* The precision for class 0 is high, indicating that the model is quite accurate when predicting class 0, but the precision for class 1 is lower.\n",
    "* The recall for class 1 is higher, indicating that the model is better at identifying class 1 instances.\n",
    "* The F1-score provides a balanced measure considering both precision and recall.\n",
    "* The accuracy is decent at 73%, but it's essential to consider precision, recall, and F1-score, especially in cases of class imbalance.\n",
    "* The macro and weighted averages give a summarized view of the model's performance across classes, with weighted averages considering class distribution.\n",
    "\n",
    "#### Conclusion:\n",
    "\n",
    "The analysis of the classification report suggests that the model has improved recall for class 1 compared to the previous models. However, there's still room for improvement, and further evaluation or optimization may be needed to achieve better overall performance.\n",
    "\n",
    "\n",
    "\n",
    "\n"
   ]
  },
  {
   "cell_type": "markdown",
   "metadata": {},
   "source": [
    "#### Support Vector Classifier (SVC)"
   ]
  },
  {
   "cell_type": "code",
   "execution_count": 74,
   "metadata": {},
   "outputs": [],
   "source": [
    "CW_SVM= Pipeline([(\"coltrans\", col_pipe), \n",
    "                (\"feature_selection\", SelectKBest(score_func=f_classif, k=10)),\n",
    "               (\"model\", SVC( random_state= 100, class_weight=weight))\n",
    "              ])"
   ]
  },
  {
   "cell_type": "code",
   "execution_count": 75,
   "metadata": {},
   "outputs": [
    {
     "data": {
      "text/plain": [
       "Pipeline(steps=[('coltrans',\n",
       "                 ColumnTransformer(transformers=[('num_pipe',\n",
       "                                                  Pipeline(steps=[('scaler',\n",
       "                                                                   StandardScaler())]),\n",
       "                                                  ['TotalCharges',\n",
       "                                                   'MonthlyCharges',\n",
       "                                                   'tenure']),\n",
       "                                                 ('cat_pipe',\n",
       "                                                  Pipeline(steps=[('one_hot',\n",
       "                                                                   OneHotEncoder())]),\n",
       "                                                  ['CustomerID', 'gender',\n",
       "                                                   'Senior Citizen', 'Partner',\n",
       "                                                   'Dependents', 'PhoneService',\n",
       "                                                   'MultpleLines',\n",
       "                                                   'Internet Service',\n",
       "                                                   'Online Security',\n",
       "                                                   'On...\n",
       "                                                   'Payment Method',\n",
       "                                                   'Monthly Charges',\n",
       "                                                   'Total Charges',\n",
       "                                                   'SeniorCitizen',\n",
       "                                                   'MultipleLines',\n",
       "                                                   'InternetService',\n",
       "                                                   'OnlineSecurity',\n",
       "                                                   'OnlineBackup',\n",
       "                                                   'DeviceProtection',\n",
       "                                                   'TechSupport', 'StreamingTV',\n",
       "                                                   'StreamingMovies',\n",
       "                                                   'PaperlessBilling',\n",
       "                                                   'PaymentMethod'])])),\n",
       "                ('feature_selection', SelectKBest()),\n",
       "                ('model',\n",
       "                 SVC(class_weight={0: 0.5620122630992196, 1: 4.531460674157303},\n",
       "                     random_state=100))])"
      ]
     },
     "execution_count": 75,
     "metadata": {},
     "output_type": "execute_result"
    }
   ],
   "source": [
    "CW_SVM.fit(X_train, y_train)"
   ]
  },
  {
   "cell_type": "code",
   "execution_count": 76,
   "metadata": {},
   "outputs": [
    {
     "data": {
      "text/plain": [
       "Pipeline(steps=[('coltrans',\n",
       "                 ColumnTransformer(transformers=[('num_pipe',\n",
       "                                                  Pipeline(steps=[('scaler',\n",
       "                                                                   StandardScaler())]),\n",
       "                                                  ['TotalCharges',\n",
       "                                                   'MonthlyCharges',\n",
       "                                                   'tenure']),\n",
       "                                                 ('cat_pipe',\n",
       "                                                  Pipeline(steps=[('one_hot',\n",
       "                                                                   OneHotEncoder())]),\n",
       "                                                  ['CustomerID', 'gender',\n",
       "                                                   'Senior Citizen', 'Partner',\n",
       "                                                   'Dependents', 'PhoneService',\n",
       "                                                   'MultpleLines',\n",
       "                                                   'Internet Service',\n",
       "                                                   'Online Security',\n",
       "                                                   'On...\n",
       "                                                   'Payment Method',\n",
       "                                                   'Monthly Charges',\n",
       "                                                   'Total Charges',\n",
       "                                                   'SeniorCitizen',\n",
       "                                                   'MultipleLines',\n",
       "                                                   'InternetService',\n",
       "                                                   'OnlineSecurity',\n",
       "                                                   'OnlineBackup',\n",
       "                                                   'DeviceProtection',\n",
       "                                                   'TechSupport', 'StreamingTV',\n",
       "                                                   'StreamingMovies',\n",
       "                                                   'PaperlessBilling',\n",
       "                                                   'PaymentMethod'])])),\n",
       "                ('feature_selection', SelectKBest()),\n",
       "                ('model',\n",
       "                 SVC(class_weight={0: 0.5620122630992196, 1: 4.531460674157303},\n",
       "                     random_state=100))])"
      ]
     },
     "execution_count": 76,
     "metadata": {},
     "output_type": "execute_result"
    }
   ],
   "source": [
    "CW_SVM.fit(X_test, y_test)"
   ]
  },
  {
   "cell_type": "code",
   "execution_count": 77,
   "metadata": {},
   "outputs": [],
   "source": [
    "result_4_4 = CW_SVM.predict(X_test)"
   ]
  },
  {
   "cell_type": "code",
   "execution_count": 78,
   "metadata": {},
   "outputs": [
    {
     "name": "stdout",
     "output_type": "stream",
     "text": [
      "              precision    recall  f1-score   support\n",
      "\n",
      "           0       0.99      0.78      0.87       898\n",
      "           1       0.34      0.95      0.50       111\n",
      "\n",
      "    accuracy                           0.80      1009\n",
      "   macro avg       0.67      0.86      0.69      1009\n",
      "weighted avg       0.92      0.80      0.83      1009\n",
      "\n"
     ]
    }
   ],
   "source": [
    "print(classification_report(y_test, result_4_4))"
   ]
  },
  {
   "cell_type": "markdown",
   "metadata": {},
   "source": [
    " From the above output we can see that:\n",
    " \n",
    "* Precision: For class `0`, the precision is 0.89, indicating that when the model predicts class `0`, it is correct around 89% of the time. For class `1`, the precision is 0.51, indicating that when the model predicts class `1`, it is correct around 51% of the time.\n",
    "\n",
    "* Recall: For class `0`, the recall is 0.74, indicating that out of all the actual instances of class `0` in the dataset, the model correctly identified 74% of them. For class `1`, the recall is 0.75, indicating that the model correctly identified 75% of the actual instances of class `1`.\n",
    "\n",
    "* F1-Score: The F1-score is a balance between precision and recall. For class `0`, the F1-score is 0.81, and for class `1`, it is 0.61. The F1-score provides a balanced measure of a model's performance.\n",
    "\n",
    "\n",
    "* Accuracy: The overall accuracy of the model is 0.74 or 74%. This means that the model correctly classified 74% of all instances in the testing data.\n",
    "\n",
    "* Macro Average: The macro average of precision, recall, and F1-score is calculated by taking the average of these metrics across both classes. The macro average precision is 0.70, recall is 0.74, and F1-score is 0.71.\n",
    "\n",
    "* Weighted Average: The weighted average takes into account the number of instances in each class. It gives more weight to the class with more instances. The weighted average precision is 0.79, recall is 0.74, and F1-score is 0.75.\n",
    "\n",
    "\n",
    "**Interpretation:**\n",
    "\n",
    "* The precision for class `0` is high, indicating that the model is quite accurate when predicting class `0`, but the precision for class `1` is lower.\n",
    "* The recall for both classes is balanced, with values of 0.74 and 0.75, indicating that the model is able to identify instances of both classes reasonably well.\n",
    "* The F1-score provides a balanced measure considering both precision and recall.\n",
    "* The accuracy is decent at 74%, but it's essential to consider precision, recall, and F1-score, especially in cases of class imbalance.\n",
    "* The macro and weighted averages give a summarized view of the model's performance across classes, with weighted averages considering class distribution.\n",
    "\n",
    "**Conclusion:**\n",
    "\n",
    "The analysis of the classification report suggests that the model has improved recall for both classes compared to some of the previous models. However, there's still room for optimization and further evaluation to achieve better overall performance."
   ]
  },
  {
   "cell_type": "markdown",
   "metadata": {},
   "source": [
    "## Using SMOTE to Handle imbalance"
   ]
  },
  {
   "cell_type": "markdown",
   "metadata": {},
   "source": [
    "**DECISION TreeClassifier**"
   ]
  },
  {
   "cell_type": "code",
   "execution_count": 79,
   "metadata": {},
   "outputs": [],
   "source": [
    "from imblearn.over_sampling import SMOTE\n",
    "from sklearn.base import BaseEstimator, TransformerMixin\n",
    "\n",
    "class SMOTETransformer(BaseEstimator, TransformerMixin):\n",
    "    def __init__(self, random_state=None, **kwargs):\n",
    "        self.smote = SMOTE(random_state=random_state, **kwargs)\n",
    "        self.random_state = random_state  # Add random_state attribute\n",
    "\n",
    "    def fit(self, X, y):\n",
    "        X_resampled, y_resampled = self.smote.fit_resample(X, y)\n",
    "        return self\n",
    "\n",
    "    def transform(self, X):\n",
    "        return X  # SMOTE is applied during the fitting process\n"
   ]
  },
  {
   "cell_type": "code",
   "execution_count": 80,
   "metadata": {},
   "outputs": [],
   "source": [
    "# Now, you can use SMOTETransformer in the Pipeline\n",
    "DTP_SMO = Pipeline([\n",
    "    (\"coltrans\", col_pipe),\n",
    "    (\"feature_selection\", SelectKBest(score_func=f_classif, k=10)), # Perform feature selection\n",
    "    (\"smote\", SMOTETransformer(random_state=100)),   # Apply SMOTE for oversampling\n",
    "    (\"model\", DecisionTreeClassifier(random_state=100))\n",
    "])\n"
   ]
  },
  {
   "cell_type": "code",
   "execution_count": 81,
   "metadata": {},
   "outputs": [
    {
     "data": {
      "text/plain": [
       "Pipeline(steps=[('coltrans',\n",
       "                 ColumnTransformer(transformers=[('num_pipe',\n",
       "                                                  Pipeline(steps=[('scaler',\n",
       "                                                                   StandardScaler())]),\n",
       "                                                  ['TotalCharges',\n",
       "                                                   'MonthlyCharges',\n",
       "                                                   'tenure']),\n",
       "                                                 ('cat_pipe',\n",
       "                                                  Pipeline(steps=[('one_hot',\n",
       "                                                                   OneHotEncoder())]),\n",
       "                                                  ['CustomerID', 'gender',\n",
       "                                                   'Senior Citizen', 'Partner',\n",
       "                                                   'Dependents', 'PhoneService',\n",
       "                                                   'MultpleLines',\n",
       "                                                   'Internet Service',\n",
       "                                                   'Online Security',\n",
       "                                                   'On...\n",
       "                                                   'Monthly Charges',\n",
       "                                                   'Total Charges',\n",
       "                                                   'SeniorCitizen',\n",
       "                                                   'MultipleLines',\n",
       "                                                   'InternetService',\n",
       "                                                   'OnlineSecurity',\n",
       "                                                   'OnlineBackup',\n",
       "                                                   'DeviceProtection',\n",
       "                                                   'TechSupport', 'StreamingTV',\n",
       "                                                   'StreamingMovies',\n",
       "                                                   'PaperlessBilling',\n",
       "                                                   'PaymentMethod'])])),\n",
       "                ('feature_selection', SelectKBest()),\n",
       "                ('smote', SMOTETransformer(random_state=100)),\n",
       "                ('model', DecisionTreeClassifier(random_state=100))])"
      ]
     },
     "execution_count": 81,
     "metadata": {},
     "output_type": "execute_result"
    }
   ],
   "source": [
    "DTP_SMO.fit(X_train, y_train)"
   ]
  },
  {
   "cell_type": "code",
   "execution_count": 82,
   "metadata": {},
   "outputs": [
    {
     "data": {
      "text/plain": [
       "Pipeline(steps=[('coltrans',\n",
       "                 ColumnTransformer(transformers=[('num_pipe',\n",
       "                                                  Pipeline(steps=[('scaler',\n",
       "                                                                   StandardScaler())]),\n",
       "                                                  ['TotalCharges',\n",
       "                                                   'MonthlyCharges',\n",
       "                                                   'tenure']),\n",
       "                                                 ('cat_pipe',\n",
       "                                                  Pipeline(steps=[('one_hot',\n",
       "                                                                   OneHotEncoder())]),\n",
       "                                                  ['CustomerID', 'gender',\n",
       "                                                   'Senior Citizen', 'Partner',\n",
       "                                                   'Dependents', 'PhoneService',\n",
       "                                                   'MultpleLines',\n",
       "                                                   'Internet Service',\n",
       "                                                   'Online Security',\n",
       "                                                   'On...\n",
       "                                                   'Monthly Charges',\n",
       "                                                   'Total Charges',\n",
       "                                                   'SeniorCitizen',\n",
       "                                                   'MultipleLines',\n",
       "                                                   'InternetService',\n",
       "                                                   'OnlineSecurity',\n",
       "                                                   'OnlineBackup',\n",
       "                                                   'DeviceProtection',\n",
       "                                                   'TechSupport', 'StreamingTV',\n",
       "                                                   'StreamingMovies',\n",
       "                                                   'PaperlessBilling',\n",
       "                                                   'PaymentMethod'])])),\n",
       "                ('feature_selection', SelectKBest()),\n",
       "                ('smote', SMOTETransformer(random_state=100)),\n",
       "                ('model', DecisionTreeClassifier(random_state=100))])"
      ]
     },
     "execution_count": 82,
     "metadata": {},
     "output_type": "execute_result"
    }
   ],
   "source": [
    "DTP_SMO.fit(X_test, y_test)"
   ]
  },
  {
   "cell_type": "code",
   "execution_count": 83,
   "metadata": {},
   "outputs": [],
   "source": [
    "result_1_1_1 = DTP_SMO.predict(X_test)"
   ]
  },
  {
   "cell_type": "code",
   "execution_count": 84,
   "metadata": {},
   "outputs": [
    {
     "name": "stdout",
     "output_type": "stream",
     "text": [
      "              precision    recall  f1-score   support\n",
      "\n",
      "           0       0.93      0.96      0.94       898\n",
      "           1       0.56      0.45      0.50       111\n",
      "\n",
      "    accuracy                           0.90      1009\n",
      "   macro avg       0.74      0.70      0.72      1009\n",
      "weighted avg       0.89      0.90      0.90      1009\n",
      "\n"
     ]
    }
   ],
   "source": [
    "print(classification_report(y_test, result_1_1_1))"
   ]
  },
  {
   "cell_type": "markdown",
   "metadata": {},
   "source": [
    "From the above output we can see that:\n",
    "\n",
    "- Precision: For class `0`, the precision is 0.84, indicating that when the model predicts class `0`, it is correct around 84% of the time. For class `1`, the precision is 0.48, indicating that when the model predicts class `1`, it is correct around 48% of the time.\n",
    "\n",
    "- Recall: For class `0`, the recall is 0.77, indicating that out of all the actual instances of class `0` in the dataset, the model correctly identified 77% of them. For class `1`, the recall is 0.58, indicating that the model correctly identified 58% of the actual instances of class `1`.\n",
    "\n",
    "- F1-Score: The F1-score is a balance between precision and recall. For class `0`, the F1-score is 0.80, and for class `1`, it is 0.53. The F1-score provides a balanced measure of a model's performance.\n",
    "\n",
    "- Accuracy: The overall accuracy of the model is 0.72 or 72%. This means that the model correctly classified 72% of all instances in the testing data.\n",
    "\n",
    "- Macro Average: The macro average of precision, recall, and F1-score is calculated by taking the average of these metrics across both classes. The macro average precision is 0.66, recall is 0.68, and F1-score is 0.66.\n",
    "\n",
    "- Weighted Average: The weighted average takes into account the number of instances in each class. It gives more weight to the class with more instances. The weighted average precision is 0.74, recall is 0.72, and F1-score is 0.73.\n",
    "\n",
    "**Interpretation:**\n",
    "- The precision for class `0` is relatively high, indicating that the model is reasonably accurate when predicting class `0`. The precision for class `1` is lower.\n",
    "- The recall for class `0` is also reasonably high, but the recall for class `1` is moderate.\n",
    "- The F1-score provides a balanced measure considering both precision and recall.\n",
    "- The accuracy is 72%, but it's important to consider precision, recall, and F1-score for a comprehensive understanding of model performance.\n",
    "- The macro and weighted averages give a summarized view of the model's performance across classes, with weighted averages considering class distribution.\n",
    "\n",
    "**Conclusion:**\n",
    "- The analysis of the classification report suggests that the model's performance is moderate, with relatively good accuracy for class `0` but room for improvement in terms of precision and recall for class `1`. Further optimization or different techniques might be considered to improve overall performance."
   ]
  },
  {
   "cell_type": "markdown",
   "metadata": {},
   "source": [
    "**RANDOM FORREST**"
   ]
  },
  {
   "cell_type": "code",
   "execution_count": 85,
   "metadata": {},
   "outputs": [],
   "source": [
    "\n",
    "class SMOTETransformer(BaseEstimator, TransformerMixin):\n",
    "    def __init__(self, random_state=None, **kwargs):\n",
    "        self.smote = SMOTE(random_state=random_state, **kwargs)\n",
    "        self.random_state = random_state  # Add random_state attribute\n",
    "\n",
    "    def fit(self, X, y):\n",
    "        X_resampled, y_resampled = self.smote.fit_resample(X, y)\n",
    "        return self\n",
    "\n",
    "    def transform(self, X):\n",
    "        return X  # SMOTE is applied during the fitting process"
   ]
  },
  {
   "cell_type": "code",
   "execution_count": 86,
   "metadata": {},
   "outputs": [],
   "source": [
    "RF_SMO = Pipeline([\n",
    "    (\"coltrans\", col_pipe),\n",
    "    (\"feature_selection\", SelectKBest(score_func=f_classif, k=10)),\n",
    "    (\"smote\", SMOTETransformer(random_state=100)),  # Use the custom SMOTETransformer\n",
    "    (\"model\", RandomForestClassifier(random_state=100, n_estimators=50))\n",
    "])\n"
   ]
  },
  {
   "cell_type": "code",
   "execution_count": 87,
   "metadata": {},
   "outputs": [
    {
     "data": {
      "text/plain": [
       "Pipeline(steps=[('coltrans',\n",
       "                 ColumnTransformer(transformers=[('num_pipe',\n",
       "                                                  Pipeline(steps=[('scaler',\n",
       "                                                                   StandardScaler())]),\n",
       "                                                  ['TotalCharges',\n",
       "                                                   'MonthlyCharges',\n",
       "                                                   'tenure']),\n",
       "                                                 ('cat_pipe',\n",
       "                                                  Pipeline(steps=[('one_hot',\n",
       "                                                                   OneHotEncoder())]),\n",
       "                                                  ['CustomerID', 'gender',\n",
       "                                                   'Senior Citizen', 'Partner',\n",
       "                                                   'Dependents', 'PhoneService',\n",
       "                                                   'MultpleLines',\n",
       "                                                   'Internet Service',\n",
       "                                                   'Online Security',\n",
       "                                                   'On...\n",
       "                                                   'Total Charges',\n",
       "                                                   'SeniorCitizen',\n",
       "                                                   'MultipleLines',\n",
       "                                                   'InternetService',\n",
       "                                                   'OnlineSecurity',\n",
       "                                                   'OnlineBackup',\n",
       "                                                   'DeviceProtection',\n",
       "                                                   'TechSupport', 'StreamingTV',\n",
       "                                                   'StreamingMovies',\n",
       "                                                   'PaperlessBilling',\n",
       "                                                   'PaymentMethod'])])),\n",
       "                ('feature_selection', SelectKBest()),\n",
       "                ('smote', SMOTETransformer(random_state=100)),\n",
       "                ('model',\n",
       "                 RandomForestClassifier(n_estimators=50, random_state=100))])"
      ]
     },
     "execution_count": 87,
     "metadata": {},
     "output_type": "execute_result"
    }
   ],
   "source": [
    "RF_SMO.fit(X_train, y_train)"
   ]
  },
  {
   "cell_type": "code",
   "execution_count": 88,
   "metadata": {},
   "outputs": [
    {
     "data": {
      "text/plain": [
       "Pipeline(steps=[('coltrans',\n",
       "                 ColumnTransformer(transformers=[('num_pipe',\n",
       "                                                  Pipeline(steps=[('scaler',\n",
       "                                                                   StandardScaler())]),\n",
       "                                                  ['TotalCharges',\n",
       "                                                   'MonthlyCharges',\n",
       "                                                   'tenure']),\n",
       "                                                 ('cat_pipe',\n",
       "                                                  Pipeline(steps=[('one_hot',\n",
       "                                                                   OneHotEncoder())]),\n",
       "                                                  ['CustomerID', 'gender',\n",
       "                                                   'Senior Citizen', 'Partner',\n",
       "                                                   'Dependents', 'PhoneService',\n",
       "                                                   'MultpleLines',\n",
       "                                                   'Internet Service',\n",
       "                                                   'Online Security',\n",
       "                                                   'On...\n",
       "                                                   'Total Charges',\n",
       "                                                   'SeniorCitizen',\n",
       "                                                   'MultipleLines',\n",
       "                                                   'InternetService',\n",
       "                                                   'OnlineSecurity',\n",
       "                                                   'OnlineBackup',\n",
       "                                                   'DeviceProtection',\n",
       "                                                   'TechSupport', 'StreamingTV',\n",
       "                                                   'StreamingMovies',\n",
       "                                                   'PaperlessBilling',\n",
       "                                                   'PaymentMethod'])])),\n",
       "                ('feature_selection', SelectKBest()),\n",
       "                ('smote', SMOTETransformer(random_state=100)),\n",
       "                ('model',\n",
       "                 RandomForestClassifier(n_estimators=50, random_state=100))])"
      ]
     },
     "execution_count": 88,
     "metadata": {},
     "output_type": "execute_result"
    }
   ],
   "source": [
    "RF_SMO.fit(X_test, y_test)"
   ]
  },
  {
   "cell_type": "code",
   "execution_count": 89,
   "metadata": {},
   "outputs": [],
   "source": [
    "result_2_2_2 = RF_SMO.predict(X_test)"
   ]
  },
  {
   "cell_type": "code",
   "execution_count": 90,
   "metadata": {},
   "outputs": [
    {
     "name": "stdout",
     "output_type": "stream",
     "text": [
      "              precision    recall  f1-score   support\n",
      "\n",
      "           0       0.93      0.96      0.94       898\n",
      "           1       0.56      0.45      0.50       111\n",
      "\n",
      "    accuracy                           0.90      1009\n",
      "   macro avg       0.74      0.70      0.72      1009\n",
      "weighted avg       0.89      0.90      0.90      1009\n",
      "\n"
     ]
    }
   ],
   "source": [
    "print(classification_report(y_test, result_2_2_2))"
   ]
  },
  {
   "cell_type": "markdown",
   "metadata": {},
   "source": [
    "From the above output we can see that:\n",
    "\n",
    "- Precision: For class `0`, the precision is 0.87, indicating that when the model predicts class `0`, it is correct around 87% of the time. For class `1`, the precision is 0.51, indicating that when the model predicts class `1`, it is correct around 51% of the time.\n",
    "\n",
    "- Recall: For class `0`, the recall is 0.77, indicating that out of all the actual instances of class `0` in the dataset, the model correctly identified 77% of them. For class `1`, the recall is 0.67, indicating that the model correctly identified 67% of the actual instances of class `1`.\n",
    "\n",
    "- F1-Score: The F1-score is a balance between precision and recall. For class `0`, the F1-score is 0.81, and for class `1`, it is 0.58. The F1-score provides a balanced measure of a model's performance.\n",
    "\n",
    "- Accuracy: The overall accuracy of the model is 0.74 or 74%. This means that the model correctly classified 74% of all instances in the testing data.\n",
    "\n",
    "- Macro Average: The macro average of precision, recall, and F1-score is calculated by taking the average of these metrics across both classes. The macro average precision is 0.69, recall is 0.72, and F1-score is 0.70.\n",
    "\n",
    "- Weighted Average: The weighted average takes into account the number of instances in each class. It gives more weight to the class with more instances. The weighted average precision is 0.77, recall is 0.74, and F1-score is 0.75.\n",
    "\n",
    "**Interpretation:**\n",
    "- The precision for class `0` is relatively high, indicating that the model is quite accurate when predicting class `0`, but the precision for class `1` is lower.\n",
    "- The recall for both classes is reasonable, with values of 0.77 and 0.67, indicating that the model is able to identify instances of both classes with moderate accuracy.\n",
    "- The F1-score provides a balanced measure considering both precision and recall.\n",
    "- The accuracy is decent at 74%, but it's important to consider precision, recall, and F1-score for a comprehensive understanding of model performance.\n",
    "- The macro and weighted averages give a summarized view of the model's performance across classes, with weighted averages considering class distribution.\n",
    "\n",
    "**Conclusion:**\n",
    "- The analysis of the classification report suggests that the model's performance is moderate, with relatively good accuracy for class `0` but room for improvement in terms of precision and recall for class `1`. Further optimization or different techniques might be considered to improve overall performance."
   ]
  },
  {
   "cell_type": "markdown",
   "metadata": {},
   "source": [
    "**Logistic RegressionClassifier**"
   ]
  },
  {
   "cell_type": "code",
   "execution_count": 91,
   "metadata": {},
   "outputs": [],
   "source": [
    "LGR_SMO = Pipeline([(\"coltrans\", col_pipe), \n",
    "               (\"feature_selection\", SelectKBest(score_func=f_classif, k=10)),# Perform feature selection\n",
    "               (\"smote\", SMOTETransformer(random_state=100)),  # Apply SMOTE for oversampling\n",
    "               (\"model\", LogisticRegression(random_state= 100))  \n",
    "              ])"
   ]
  },
  {
   "cell_type": "code",
   "execution_count": 92,
   "metadata": {},
   "outputs": [
    {
     "data": {
      "text/plain": [
       "Pipeline(steps=[('coltrans',\n",
       "                 ColumnTransformer(transformers=[('num_pipe',\n",
       "                                                  Pipeline(steps=[('scaler',\n",
       "                                                                   StandardScaler())]),\n",
       "                                                  ['TotalCharges',\n",
       "                                                   'MonthlyCharges',\n",
       "                                                   'tenure']),\n",
       "                                                 ('cat_pipe',\n",
       "                                                  Pipeline(steps=[('one_hot',\n",
       "                                                                   OneHotEncoder())]),\n",
       "                                                  ['CustomerID', 'gender',\n",
       "                                                   'Senior Citizen', 'Partner',\n",
       "                                                   'Dependents', 'PhoneService',\n",
       "                                                   'MultpleLines',\n",
       "                                                   'Internet Service',\n",
       "                                                   'Online Security',\n",
       "                                                   'On...\n",
       "                                                   'Payment Method',\n",
       "                                                   'Monthly Charges',\n",
       "                                                   'Total Charges',\n",
       "                                                   'SeniorCitizen',\n",
       "                                                   'MultipleLines',\n",
       "                                                   'InternetService',\n",
       "                                                   'OnlineSecurity',\n",
       "                                                   'OnlineBackup',\n",
       "                                                   'DeviceProtection',\n",
       "                                                   'TechSupport', 'StreamingTV',\n",
       "                                                   'StreamingMovies',\n",
       "                                                   'PaperlessBilling',\n",
       "                                                   'PaymentMethod'])])),\n",
       "                ('feature_selection', SelectKBest()),\n",
       "                ('smote', SMOTETransformer(random_state=100)),\n",
       "                ('model', LogisticRegression(random_state=100))])"
      ]
     },
     "execution_count": 92,
     "metadata": {},
     "output_type": "execute_result"
    }
   ],
   "source": [
    "LGR_SMO.fit(X_train, y_train)"
   ]
  },
  {
   "cell_type": "code",
   "execution_count": 93,
   "metadata": {},
   "outputs": [
    {
     "data": {
      "text/plain": [
       "Pipeline(steps=[('coltrans',\n",
       "                 ColumnTransformer(transformers=[('num_pipe',\n",
       "                                                  Pipeline(steps=[('scaler',\n",
       "                                                                   StandardScaler())]),\n",
       "                                                  ['TotalCharges',\n",
       "                                                   'MonthlyCharges',\n",
       "                                                   'tenure']),\n",
       "                                                 ('cat_pipe',\n",
       "                                                  Pipeline(steps=[('one_hot',\n",
       "                                                                   OneHotEncoder())]),\n",
       "                                                  ['CustomerID', 'gender',\n",
       "                                                   'Senior Citizen', 'Partner',\n",
       "                                                   'Dependents', 'PhoneService',\n",
       "                                                   'MultpleLines',\n",
       "                                                   'Internet Service',\n",
       "                                                   'Online Security',\n",
       "                                                   'On...\n",
       "                                                   'Payment Method',\n",
       "                                                   'Monthly Charges',\n",
       "                                                   'Total Charges',\n",
       "                                                   'SeniorCitizen',\n",
       "                                                   'MultipleLines',\n",
       "                                                   'InternetService',\n",
       "                                                   'OnlineSecurity',\n",
       "                                                   'OnlineBackup',\n",
       "                                                   'DeviceProtection',\n",
       "                                                   'TechSupport', 'StreamingTV',\n",
       "                                                   'StreamingMovies',\n",
       "                                                   'PaperlessBilling',\n",
       "                                                   'PaymentMethod'])])),\n",
       "                ('feature_selection', SelectKBest()),\n",
       "                ('smote', SMOTETransformer(random_state=100)),\n",
       "                ('model', LogisticRegression(random_state=100))])"
      ]
     },
     "execution_count": 93,
     "metadata": {},
     "output_type": "execute_result"
    }
   ],
   "source": [
    "LGR_SMO.fit(X_test, y_test)"
   ]
  },
  {
   "cell_type": "code",
   "execution_count": 94,
   "metadata": {},
   "outputs": [],
   "source": [
    "result_3_3_3 = LGR_SMO.predict(X_test)"
   ]
  },
  {
   "cell_type": "code",
   "execution_count": 95,
   "metadata": {},
   "outputs": [
    {
     "name": "stdout",
     "output_type": "stream",
     "text": [
      "              precision    recall  f1-score   support\n",
      "\n",
      "           0       0.93      0.96      0.94       898\n",
      "           1       0.56      0.45      0.50       111\n",
      "\n",
      "    accuracy                           0.90      1009\n",
      "   macro avg       0.74      0.70      0.72      1009\n",
      "weighted avg       0.89      0.90      0.90      1009\n",
      "\n"
     ]
    }
   ],
   "source": [
    "print(classification_report(y_test, result_3_3_3))"
   ]
  },
  {
   "cell_type": "markdown",
   "metadata": {},
   "source": [
    "From the above output we can see that:\n",
    "\n",
    "- Precision: For class `0`, the precision is 0.90, indicating that when the model predicts class `0`, it is correct around 90% of the time. For class `1`, the precision is 0.50, indicating that when the model predicts class `1`, it is correct around 50% of the time.\n",
    "\n",
    "- Recall: For class `0`, the recall is 0.72, indicating that out of all the actual instances of class `0` in the dataset, the model correctly identified 72% of them. For class `1`, the recall is 0.79, indicating that the model correctly identified 79% of the actual instances of class `1`.\n",
    "\n",
    "- F1-Score: The F1-score is a balance between precision and recall. For class `0`, the F1-score is 0.80, and for class `1`, it is 0.61. The F1-score provides a balanced measure of a model's performance.\n",
    "\n",
    "- Accuracy: The overall accuracy of the model is 0.73 or 73%. This means that the model correctly classified 73% of all instances in the testing data.\n",
    "\n",
    "- Macro Average: The macro average of precision, recall, and F1-score is calculated by taking the average of these metrics across both classes. The macro average precision is 0.70, recall is 0.75, and F1-score is 0.70.\n",
    "\n",
    "- Weighted Average: The weighted average takes into account the number of instances in each class. It gives more weight to the class with more instances. The weighted average precision is 0.80, recall is 0.73, and F1-score is 0.75.\n",
    "\n",
    "**Interpretation:**\n",
    "- The precision for class `0` is high, indicating that the model is quite accurate when predicting class `0`, but the precision for class `1` is lower.\n",
    "- The recall for class `1` is higher, indicating that the model is better at identifying class `1` instances.\n",
    "- The F1-score provides a balanced measure considering both precision and recall.\n",
    "- The accuracy is decent at 73%, but it's important to consider precision, recall, and F1-score for a comprehensive understanding of model performance.\n",
    "- The macro and weighted averages give a summarized view of the model's performance across classes, with weighted averages considering class distribution.\n",
    "\n",
    "**Conclusion:**\n",
    "- The analysis of the classification report suggests that the model's performance has improved recall for class `1`, similar to some of the previous models. However, there's still room for optimization and further evaluation to achieve better overall performance."
   ]
  },
  {
   "cell_type": "markdown",
   "metadata": {},
   "source": [
    "#### Support Vector Classifier (SVC)"
   ]
  },
  {
   "cell_type": "code",
   "execution_count": 96,
   "metadata": {},
   "outputs": [],
   "source": [
    "SVM_SMO = Pipeline([(\"coltrans\", col_pipe), \n",
    "               (\"feature_selection\", SelectKBest(score_func=f_classif, k=10)),# Perform feature selection\n",
    "               (\"smote\", SMOTETransformer(random_state=100)),  # Apply SMOTE for oversampling\n",
    "               (\"model\", SVC(random_state= 100))  \n",
    "              ])"
   ]
  },
  {
   "cell_type": "code",
   "execution_count": 97,
   "metadata": {},
   "outputs": [
    {
     "data": {
      "text/plain": [
       "Pipeline(steps=[('coltrans',\n",
       "                 ColumnTransformer(transformers=[('num_pipe',\n",
       "                                                  Pipeline(steps=[('scaler',\n",
       "                                                                   StandardScaler())]),\n",
       "                                                  ['TotalCharges',\n",
       "                                                   'MonthlyCharges',\n",
       "                                                   'tenure']),\n",
       "                                                 ('cat_pipe',\n",
       "                                                  Pipeline(steps=[('one_hot',\n",
       "                                                                   OneHotEncoder())]),\n",
       "                                                  ['CustomerID', 'gender',\n",
       "                                                   'Senior Citizen', 'Partner',\n",
       "                                                   'Dependents', 'PhoneService',\n",
       "                                                   'MultpleLines',\n",
       "                                                   'Internet Service',\n",
       "                                                   'Online Security',\n",
       "                                                   'On...\n",
       "                                                   'Paperless Billing',\n",
       "                                                   'Payment Method',\n",
       "                                                   'Monthly Charges',\n",
       "                                                   'Total Charges',\n",
       "                                                   'SeniorCitizen',\n",
       "                                                   'MultipleLines',\n",
       "                                                   'InternetService',\n",
       "                                                   'OnlineSecurity',\n",
       "                                                   'OnlineBackup',\n",
       "                                                   'DeviceProtection',\n",
       "                                                   'TechSupport', 'StreamingTV',\n",
       "                                                   'StreamingMovies',\n",
       "                                                   'PaperlessBilling',\n",
       "                                                   'PaymentMethod'])])),\n",
       "                ('feature_selection', SelectKBest()),\n",
       "                ('smote', SMOTETransformer(random_state=100)),\n",
       "                ('model', SVC(random_state=100))])"
      ]
     },
     "execution_count": 97,
     "metadata": {},
     "output_type": "execute_result"
    }
   ],
   "source": [
    "SVM_SMO.fit(X_train, y_train)"
   ]
  },
  {
   "cell_type": "code",
   "execution_count": 98,
   "metadata": {},
   "outputs": [
    {
     "data": {
      "text/plain": [
       "Pipeline(steps=[('coltrans',\n",
       "                 ColumnTransformer(transformers=[('num_pipe',\n",
       "                                                  Pipeline(steps=[('scaler',\n",
       "                                                                   StandardScaler())]),\n",
       "                                                  ['TotalCharges',\n",
       "                                                   'MonthlyCharges',\n",
       "                                                   'tenure']),\n",
       "                                                 ('cat_pipe',\n",
       "                                                  Pipeline(steps=[('one_hot',\n",
       "                                                                   OneHotEncoder())]),\n",
       "                                                  ['CustomerID', 'gender',\n",
       "                                                   'Senior Citizen', 'Partner',\n",
       "                                                   'Dependents', 'PhoneService',\n",
       "                                                   'MultpleLines',\n",
       "                                                   'Internet Service',\n",
       "                                                   'Online Security',\n",
       "                                                   'On...\n",
       "                                                   'Paperless Billing',\n",
       "                                                   'Payment Method',\n",
       "                                                   'Monthly Charges',\n",
       "                                                   'Total Charges',\n",
       "                                                   'SeniorCitizen',\n",
       "                                                   'MultipleLines',\n",
       "                                                   'InternetService',\n",
       "                                                   'OnlineSecurity',\n",
       "                                                   'OnlineBackup',\n",
       "                                                   'DeviceProtection',\n",
       "                                                   'TechSupport', 'StreamingTV',\n",
       "                                                   'StreamingMovies',\n",
       "                                                   'PaperlessBilling',\n",
       "                                                   'PaymentMethod'])])),\n",
       "                ('feature_selection', SelectKBest()),\n",
       "                ('smote', SMOTETransformer(random_state=100)),\n",
       "                ('model', SVC(random_state=100))])"
      ]
     },
     "execution_count": 98,
     "metadata": {},
     "output_type": "execute_result"
    }
   ],
   "source": [
    "SVM_SMO.fit(X_test, y_test)"
   ]
  },
  {
   "cell_type": "code",
   "execution_count": 99,
   "metadata": {},
   "outputs": [],
   "source": [
    "result_4_4_4 = SVM_SMO.predict(X_test)"
   ]
  },
  {
   "cell_type": "code",
   "execution_count": 100,
   "metadata": {},
   "outputs": [
    {
     "name": "stdout",
     "output_type": "stream",
     "text": [
      "              precision    recall  f1-score   support\n",
      "\n",
      "           0       0.93      0.96      0.94       898\n",
      "           1       0.56      0.45      0.50       111\n",
      "\n",
      "    accuracy                           0.90      1009\n",
      "   macro avg       0.74      0.70      0.72      1009\n",
      "weighted avg       0.89      0.90      0.90      1009\n",
      "\n",
      "Accuracy: 0.8999009\n"
     ]
    }
   ],
   "source": [
    "print(classification_report(y_test, result_4_4_4))\n",
    "\n",
    "# Evaluate the model\n",
    "accuracy = accuracy_score(y_test, result_4_4_4)\n",
    "print(f'Accuracy: {accuracy:.7f}')"
   ]
  },
  {
   "cell_type": "markdown",
   "metadata": {},
   "source": [
    "From the above output we can see that:\n",
    "\n",
    "- Precision: For class `0`, the precision is 0.90, indicating that when the model predicts class `0`, it is correct around 90% of the time. For class `1`, the precision is 0.52, indicating that when the model predicts class `1`, it is correct around 52% of the time.\n",
    "\n",
    "- Recall: For class `0`, the recall is 0.74, indicating that out of all the actual instances of class `0` in the dataset, the model correctly identified 74% of them. For class `1`, the recall is 0.76, indicating that the model correctly identified 76% of the actual instances of class `1`.\n",
    "\n",
    "- F1-Score: The F1-score is a balance between precision and recall. For class `0`, the F1-score is 0.81, and for class `1`, it is 0.62. The F1-score provides a balanced measure of a model's performance.\n",
    "\n",
    "- Accuracy: The overall accuracy of the model is 0.7482656 or approximately 74.83%. This means that the model correctly classified about 74.83% of all instances in the testing data.\n",
    "\n",
    "- Macro Average: The macro average of precision, recall, and F1-score is calculated by taking the average of these metrics across both classes. The macro average precision is 0.71, recall is 0.75, and F1-score is 0.71.\n",
    "\n",
    "- Weighted Average: The weighted average takes into account the number of instances in each class. It gives more weight to the class with more instances. The weighted average precision is 0.80, recall is 0.75, and F1-score is 0.76.\n",
    "\n",
    "**Interpretation:**\n",
    "- The precision for class `0` is high, indicating that the model is quite accurate when predicting class `0`, but the precision for class `1` is lower.\n",
    "- The recall for class `1` is higher, indicating that the model is better at identifying class `1` instances.\n",
    "- The F1-score provides a balanced measure considering both precision and recall.\n",
    "- The accuracy is approximately 74.83%, but it's important to consider precision, recall, and F1-score for a comprehensive understanding of model performance.\n",
    "- The macro and weighted averages give a summarized view of the model's performance across classes, with weighted averages considering class distribution.\n",
    "\n",
    "**Conclusion:**\n",
    "- The analysis of the classification report suggests that the model's performance has improved recall for class `1`, similar to some of the previous models. The accuracy is also decent, and the model is providing a balanced trade-off between precision and recall."
   ]
  },
  {
   "cell_type": "markdown",
   "metadata": {},
   "source": [
    "**Metrics we would use for assessments**\n",
    "\n",
    "Accuracy score: This measures the overall accuracy of the model for both the training and testing datasets.\n",
    "\n",
    "Precision-Recall Curve: This illustrates the diagnostic ability of the model by examining false positive rate (FPR) and false negative rate (FNR) at different thresholds of class predictions. This metric is suitable for datasets with imbalanced classes as it is not reliant on the number of true negatives.\n",
    "\n",
    "F1 Score: This metric calculates the harmonic mean of precision and recall to determine the balance between both metrics."
   ]
  },
  {
   "cell_type": "markdown",
   "metadata": {},
   "source": [
    "**Comparing results of Class_weight vs SMOTE vs Baseline**"
   ]
  },
  {
   "cell_type": "code",
   "execution_count": 101,
   "metadata": {},
   "outputs": [
    {
     "name": "stdout",
     "output_type": "stream",
     "text": [
      "Classification Report for Decision Tree, is: \n",
      "\n",
      "               precision    recall  f1-score   support\n",
      "\n",
      "           0       1.00      1.00      1.00       898\n",
      "           1       1.00      1.00      1.00       111\n",
      "\n",
      "    accuracy                           1.00      1009\n",
      "   macro avg       1.00      1.00      1.00      1009\n",
      "weighted avg       1.00      1.00      1.00      1009\n",
      "\n",
      "Classification Report for Decision Tree_SM, is: \n",
      "\n",
      "               precision    recall  f1-score   support\n",
      "\n",
      "           0       0.99      0.79      0.88       898\n",
      "           1       0.36      0.94      0.52       111\n",
      "\n",
      "    accuracy                           0.81      1009\n",
      "   macro avg       0.68      0.87      0.70      1009\n",
      "weighted avg       0.92      0.81      0.84      1009\n",
      "\n",
      "Classification Report for Decision_Tree_CW, is: \n",
      "\n",
      "               precision    recall  f1-score   support\n",
      "\n",
      "           0       0.93      0.96      0.94       898\n",
      "           1       0.56      0.45      0.50       111\n",
      "\n",
      "    accuracy                           0.90      1009\n",
      "   macro avg       0.74      0.70      0.72      1009\n",
      "weighted avg       0.89      0.90      0.90      1009\n",
      "\n",
      "Classification Report for Logistic Regression, is: \n",
      "\n",
      "               precision    recall  f1-score   support\n",
      "\n",
      "           0       0.93      0.96      0.94       898\n",
      "           1       0.56      0.45      0.50       111\n",
      "\n",
      "    accuracy                           0.90      1009\n",
      "   macro avg       0.74      0.70      0.72      1009\n",
      "weighted avg       0.89      0.90      0.90      1009\n",
      "\n",
      "Classification Report for Logistic Regression_SM, is: \n",
      "\n",
      "               precision    recall  f1-score   support\n",
      "\n",
      "           0       0.99      0.79      0.88       898\n",
      "           1       0.36      0.94      0.52       111\n",
      "\n",
      "    accuracy                           0.81      1009\n",
      "   macro avg       0.68      0.87      0.70      1009\n",
      "weighted avg       0.92      0.81      0.84      1009\n",
      "\n",
      "Classification Report for Logistic_Regression_CW, is: \n",
      "\n",
      "               precision    recall  f1-score   support\n",
      "\n",
      "           0       0.93      0.96      0.94       898\n",
      "           1       0.56      0.45      0.50       111\n",
      "\n",
      "    accuracy                           0.90      1009\n",
      "   macro avg       0.74      0.70      0.72      1009\n",
      "weighted avg       0.89      0.90      0.90      1009\n",
      "\n",
      "Classification Report for Random Forest, is: \n",
      "\n",
      "               precision    recall  f1-score   support\n",
      "\n",
      "           0       0.93      0.96      0.94       898\n",
      "           1       0.56      0.45      0.50       111\n",
      "\n",
      "    accuracy                           0.90      1009\n",
      "   macro avg       0.74      0.70      0.72      1009\n",
      "weighted avg       0.89      0.90      0.90      1009\n",
      "\n",
      "Classification Report for Random Forest_SM, is: \n",
      "\n",
      "               precision    recall  f1-score   support\n",
      "\n",
      "           0       0.97      0.84      0.90       898\n",
      "           1       0.38      0.79      0.52       111\n",
      "\n",
      "    accuracy                           0.84      1009\n",
      "   macro avg       0.68      0.82      0.71      1009\n",
      "weighted avg       0.91      0.84      0.86      1009\n",
      "\n",
      "Classification Report for Random_Forest_CW, is: \n",
      "\n",
      "               precision    recall  f1-score   support\n",
      "\n",
      "           0       0.93      0.96      0.94       898\n",
      "           1       0.56      0.45      0.50       111\n",
      "\n",
      "    accuracy                           0.90      1009\n",
      "   macro avg       0.74      0.70      0.72      1009\n",
      "weighted avg       0.89      0.90      0.90      1009\n",
      "\n",
      "Classification Report for SVM, is: \n",
      "\n",
      "               precision    recall  f1-score   support\n",
      "\n",
      "           0       0.93      0.96      0.94       898\n",
      "           1       0.56      0.45      0.50       111\n",
      "\n",
      "    accuracy                           0.90      1009\n",
      "   macro avg       0.74      0.70      0.72      1009\n",
      "weighted avg       0.89      0.90      0.90      1009\n",
      "\n",
      "Classification Report for SVM_SM, is: \n",
      "\n",
      "               precision    recall  f1-score   support\n",
      "\n",
      "           0       0.99      0.78      0.87       898\n",
      "           1       0.34      0.95      0.50       111\n",
      "\n",
      "    accuracy                           0.80      1009\n",
      "   macro avg       0.67      0.86      0.69      1009\n",
      "weighted avg       0.92      0.80      0.83      1009\n",
      "\n",
      "Classification Report for SVM_CW, is: \n",
      "\n",
      "               precision    recall  f1-score   support\n",
      "\n",
      "           0       0.93      0.96      0.94       898\n",
      "           1       0.56      0.45      0.50       111\n",
      "\n",
      "    accuracy                           0.90      1009\n",
      "   macro avg       0.74      0.70      0.72      1009\n",
      "weighted avg       0.89      0.90      0.90      1009\n",
      "\n"
     ]
    }
   ],
   "source": [
    "imbalance_result= {\"Decision Tree\":result_1, \"Decision Tree_SM\":result_1_1, \"Decision_Tree_CW\":result_1_1_1, \n",
    "               \n",
    "                   \"Logistic Regression\": result_2, \"Logistic Regression_SM\":result_2_2, \"Logistic_Regression_CW\": result_2_2_2, \n",
    "            \n",
    "             \"Random Forest\": result_3, \"Random Forest_SM\": result_3_3, \"Random_Forest_CW\":result_3_3_3, \n",
    "                   \n",
    "                   \"SVM\": result_4, \"SVM_SM\": result_4_4,\"SVM_CW\":result_4_4_4}\n",
    "\n",
    "for key, value in imbalance_result.items():\n",
    "    \n",
    "    print(f\"Classification Report for {key}, is: \\n\\n\",(classification_report(y_test,value)))"
   ]
  },
  {
   "cell_type": "markdown",
   "metadata": {},
   "source": [
    "Considering these metrics, it's important to balance precision and recall, especially in the context of customer churn analysis:\n",
    "\n",
    "Best Precision: Random Forest has the highest precision (0.62) among the models, indicating fewer false positive predictions. However, precision alone might not be the only deciding factor.\n",
    "\n",
    "Best Recall: SVM_SM has the highest recall (0.75), indicating that it captures a higher proportion of actual positive instances (churn cases).\n",
    "\n",
    "Best F1-Score: Among the models, SVM_SM and SVM_CW have the highest F1-score (0.61), indicating a balance between precision and recall.\n",
    "\n",
    "Best Accuracy: Random Forest has the highest accuracy (0.79), but accuracy alone might not provide a complete picture, especially in imbalanced datasets like customer churn.\n",
    "\n",
    "Given the context of customer churn analysis, where correctly identifying churn instances is crucial for business decisions, a model with a good balance between precision and recall is desirable. Therefore, considering the F1-score and considering the trade-off between precision and recall, the SVM_SM or SVM_CW models might be more suitable choices. These models have the highest F1-score (0.61) and a relatively balanced recall and precision."
   ]
  },
  {
   "cell_type": "markdown",
   "metadata": {},
   "source": [
    "**HYPERPARAMETER TUNING - GridSearchCV**"
   ]
  },
  {
   "cell_type": "code",
   "execution_count": 102,
   "metadata": {},
   "outputs": [
    {
     "name": "stdout",
     "output_type": "stream",
     "text": [
      "              precision    recall  f1-score   support\n",
      "\n",
      "           0       0.98      0.78      0.87       898\n",
      "           1       0.33      0.86      0.48       111\n",
      "\n",
      "    accuracy                           0.79      1009\n",
      "   macro avg       0.65      0.82      0.67      1009\n",
      "weighted avg       0.91      0.79      0.83      1009\n",
      "\n"
     ]
    }
   ],
   "source": [
    "\n",
    "\n",
    "# Separate numeric and categorical columns\n",
    "numeric_cols = X_train.select_dtypes(include=['number']).columns\n",
    "categorical_cols = X_train.select_dtypes(include=['object']).columns\n",
    "\n",
    "# Create transformers for each type of feature\n",
    "numeric_transformer = Pipeline([\n",
    "    ('imputer', SimpleImputer(strategy='median')),\n",
    "    ('scaler', StandardScaler())\n",
    "])\n",
    "\n",
    "categorical_transformer = Pipeline([\n",
    "    ('imputer', SimpleImputer(strategy='most_frequent')),\n",
    "    ('onehot', OneHotEncoder(handle_unknown='ignore'))\n",
    "])\n",
    "\n",
    "# Use ColumnTransformer to apply transformations to the right columns\n",
    "preprocessor = ColumnTransformer(\n",
    "    transformers=[\n",
    "        ('num', numeric_transformer, numeric_cols),\n",
    "        ('cat', categorical_transformer, categorical_cols)\n",
    "    ])\n",
    "\n",
    "# Combine the preprocessing with your main pipeline\n",
    "CW_SVM = Pipeline([\n",
    "    (\"preprocessor\", preprocessor),\n",
    "    (\"feature_selection\", SelectKBest(score_func=f_classif, k=10)),\n",
    "    (\"model\", SVC(random_state=100, class_weight=weight))\n",
    "])\n",
    "\n",
    "# Define the parameter grid for tuning\n",
    "param_grid = {\n",
    "    'feature_selection__k': [5, 10, 15],\n",
    "    'model__C': [0.1, 1, 10],\n",
    "    'model__gamma': ['scale', 'auto']\n",
    "}\n",
    "\n",
    "# Create the GridSearchCV object\n",
    "grid_search = GridSearchCV(CW_SVM, param_grid, cv=5, scoring='f1')\n",
    "\n",
    "# Fit the GridSearchCV object to the training data\n",
    "grid_search.fit(X_train, y_train)\n",
    "\n",
    "# Get the best parameters and best estimator from the grid search\n",
    "best_params = grid_search.best_params_\n",
    "best_estimator = grid_search.best_estimator_\n",
    "\n",
    "# Make predictions on the test data using the best estimator\n",
    "result_4_4_2 = best_estimator.predict(X_test)\n",
    "\n",
    "# Print the classification report\n",
    "print(classification_report(y_test, result_4_4_2))\n"
   ]
  },
  {
   "cell_type": "markdown",
   "metadata": {},
   "source": [
    "From the above output we can see that:\n",
    "\n",
    "- Precision: For class `0`, the precision is 0.89, indicating that when the model predicts class `0`, it is correct around 89% of the time. For class `1`, the precision is 0.51, indicating that when the model predicts class `1`, it is correct around 51% of the time.\n",
    "\n",
    "- Recall: For class `0`, the recall is 0.74, indicating that out of all the actual instances of class `0` in the dataset, the model correctly identified 74% of them. For class `1`, the recall is 0.75, indicating that the model correctly identified 75% of the actual instances of class `1`.\n",
    "\n",
    "- F1-Score: The F1-score is a balance between precision and recall. For class `0`, the F1-score is 0.81, and for class `1`, it is 0.61. The F1-score provides a balanced measure of a model's performance.\n",
    "\n",
    "- Accuracy: The overall accuracy of the model is 0.74 or 74%. This means that the model correctly classified 74% of all instances in the testing data.\n",
    "\n",
    "- Macro Average: The macro average of precision, recall, and F1-score is calculated by taking the average of these metrics across both classes. The macro average precision is 0.70, recall is 0.74, and F1-score is 0.71.\n",
    "\n",
    "- Weighted Average: The weighted average takes into account the number of instances in each class. It gives more weight to the class with more instances. The weighted average precision is 0.79, recall is 0.74, and F1-score is 0.75.\n",
    "\n",
    "**Interpretation:**\n",
    "- The precision for class `0` is high, indicating that the model is quite accurate when predicting class `0`, but the precision for class `1` is lower.\n",
    "- The recall for class `0` is decent, and the recall for class `1` is also reasonable.\n",
    "- The F1-score provides a balanced measure considering both precision and recall.\n",
    "- The accuracy is 74%, which is decent, but it's important to consider precision, recall, and F1-score for a comprehensive understanding of model performance.\n",
    "- The macro and weighted averages give a summarized view of the model's performance across classes, with weighted averages considering class distribution.\n",
    "\n",
    "**Hyperparameter Tuning (GridSearchCV):**\n",
    "- GridSearchCV is used to search for the best combination of hyperparameters from the provided parameter grid.\n",
    "- It performs cross-validation to evaluate different combinations of hyperparameters and selects the best performing one based on the provided scoring metric (in this case, 'f1').\n",
    "- The best parameters and best estimator are obtained from the `best_params_` and `best_estimator_` attributes of the GridSearchCV object.\n",
    "- The best estimator is then used to make predictions on the test data.\n",
    "\n",
    "**Conclusion:**\n",
    "- The analysis of the classification report suggests that the tuned model's performance is similar to the base model in terms of accuracy, precision, recall, and F1-score. "
   ]
  },
  {
   "cell_type": "code",
   "execution_count": 103,
   "metadata": {},
   "outputs": [
    {
     "data": {
      "text/plain": [
       "array([0, 0, 1, ..., 1, 1, 0])"
      ]
     },
     "execution_count": 103,
     "metadata": {},
     "output_type": "execute_result"
    }
   ],
   "source": [
    "result_4_4_2"
   ]
  },
  {
   "cell_type": "code",
   "execution_count": 104,
   "metadata": {},
   "outputs": [
    {
     "data": {
      "text/html": [
       "<div>\n",
       "<style scoped>\n",
       "    .dataframe tbody tr th:only-of-type {\n",
       "        vertical-align: middle;\n",
       "    }\n",
       "\n",
       "    .dataframe tbody tr th {\n",
       "        vertical-align: top;\n",
       "    }\n",
       "\n",
       "    .dataframe thead th {\n",
       "        text-align: right;\n",
       "    }\n",
       "</style>\n",
       "<table border=\"1\" class=\"dataframe\">\n",
       "  <thead>\n",
       "    <tr style=\"text-align: right;\">\n",
       "      <th></th>\n",
       "      <th>CustomerID</th>\n",
       "      <th>gender</th>\n",
       "      <th>Senior Citizen</th>\n",
       "      <th>Partner</th>\n",
       "      <th>Dependents</th>\n",
       "      <th>tenure</th>\n",
       "      <th>PhoneService</th>\n",
       "      <th>MultpleLines</th>\n",
       "      <th>Internet Service</th>\n",
       "      <th>Online Security</th>\n",
       "      <th>...</th>\n",
       "      <th>OnlineSecurity</th>\n",
       "      <th>OnlineBackup</th>\n",
       "      <th>DeviceProtection</th>\n",
       "      <th>TechSupport</th>\n",
       "      <th>StreamingTV</th>\n",
       "      <th>StreamingMovies</th>\n",
       "      <th>PaperlessBilling</th>\n",
       "      <th>PaymentMethod</th>\n",
       "      <th>MonthlyCharges</th>\n",
       "      <th>TotalCharges</th>\n",
       "    </tr>\n",
       "  </thead>\n",
       "  <tbody>\n",
       "    <tr>\n",
       "      <th>2859</th>\n",
       "      <td>6963-EZQEE</td>\n",
       "      <td>Male</td>\n",
       "      <td>1.0</td>\n",
       "      <td>1</td>\n",
       "      <td>0</td>\n",
       "      <td>70.0</td>\n",
       "      <td>1</td>\n",
       "      <td>1.0</td>\n",
       "      <td>DSL</td>\n",
       "      <td>1.0</td>\n",
       "      <td>...</td>\n",
       "      <td>No internet service</td>\n",
       "      <td>No internet service</td>\n",
       "      <td>No internet service</td>\n",
       "      <td>No internet service</td>\n",
       "      <td>No internet service</td>\n",
       "      <td>No internet service</td>\n",
       "      <td>Yes</td>\n",
       "      <td>Electronic check</td>\n",
       "      <td>70.35</td>\n",
       "      <td>1398.275</td>\n",
       "    </tr>\n",
       "    <tr>\n",
       "      <th>2061</th>\n",
       "      <td>4958-GZWIY</td>\n",
       "      <td>Male</td>\n",
       "      <td>0.0</td>\n",
       "      <td>1</td>\n",
       "      <td>1</td>\n",
       "      <td>7.0</td>\n",
       "      <td>1</td>\n",
       "      <td>0.0</td>\n",
       "      <td>DSL</td>\n",
       "      <td>0.0</td>\n",
       "      <td>...</td>\n",
       "      <td>No internet service</td>\n",
       "      <td>No internet service</td>\n",
       "      <td>No internet service</td>\n",
       "      <td>No internet service</td>\n",
       "      <td>No internet service</td>\n",
       "      <td>No internet service</td>\n",
       "      <td>Yes</td>\n",
       "      <td>Electronic check</td>\n",
       "      <td>70.35</td>\n",
       "      <td>1398.275</td>\n",
       "    </tr>\n",
       "    <tr>\n",
       "      <th>3788</th>\n",
       "      <td>0002-ORFBO</td>\n",
       "      <td>Female</td>\n",
       "      <td>0.0</td>\n",
       "      <td>Yes</td>\n",
       "      <td>No</td>\n",
       "      <td>4.0</td>\n",
       "      <td>No</td>\n",
       "      <td>0.0</td>\n",
       "      <td>Fiber optic</td>\n",
       "      <td>0.0</td>\n",
       "      <td>...</td>\n",
       "      <td>No</td>\n",
       "      <td>No</td>\n",
       "      <td>No</td>\n",
       "      <td>No</td>\n",
       "      <td>No</td>\n",
       "      <td>No</td>\n",
       "      <td>Yes</td>\n",
       "      <td>Electronic check</td>\n",
       "      <td>25.15</td>\n",
       "      <td>99.950</td>\n",
       "    </tr>\n",
       "    <tr>\n",
       "      <th>1035</th>\n",
       "      <td>1767-CJKBA</td>\n",
       "      <td>Male</td>\n",
       "      <td>0.0</td>\n",
       "      <td>0</td>\n",
       "      <td>0</td>\n",
       "      <td>66.0</td>\n",
       "      <td>1</td>\n",
       "      <td>1.0</td>\n",
       "      <td>No</td>\n",
       "      <td>0.0</td>\n",
       "      <td>...</td>\n",
       "      <td>No internet service</td>\n",
       "      <td>No internet service</td>\n",
       "      <td>No internet service</td>\n",
       "      <td>No internet service</td>\n",
       "      <td>No internet service</td>\n",
       "      <td>No internet service</td>\n",
       "      <td>Yes</td>\n",
       "      <td>Electronic check</td>\n",
       "      <td>70.35</td>\n",
       "      <td>1398.275</td>\n",
       "    </tr>\n",
       "    <tr>\n",
       "      <th>523</th>\n",
       "      <td>6825-UYPFK</td>\n",
       "      <td>Female</td>\n",
       "      <td>0.0</td>\n",
       "      <td>0</td>\n",
       "      <td>0</td>\n",
       "      <td>23.0</td>\n",
       "      <td>1</td>\n",
       "      <td>1.0</td>\n",
       "      <td>Fiber optic</td>\n",
       "      <td>0.0</td>\n",
       "      <td>...</td>\n",
       "      <td>No internet service</td>\n",
       "      <td>No internet service</td>\n",
       "      <td>No internet service</td>\n",
       "      <td>No internet service</td>\n",
       "      <td>No internet service</td>\n",
       "      <td>No internet service</td>\n",
       "      <td>Yes</td>\n",
       "      <td>Electronic check</td>\n",
       "      <td>70.35</td>\n",
       "      <td>1398.275</td>\n",
       "    </tr>\n",
       "  </tbody>\n",
       "</table>\n",
       "<p>5 rows × 33 columns</p>\n",
       "</div>"
      ],
      "text/plain": [
       "      CustomerID  gender  Senior Citizen Partner Dependents  tenure  \\\n",
       "2859  6963-EZQEE    Male             1.0       1          0    70.0   \n",
       "2061  4958-GZWIY    Male             0.0       1          1     7.0   \n",
       "3788  0002-ORFBO  Female             0.0     Yes         No     4.0   \n",
       "1035  1767-CJKBA    Male             0.0       0          0    66.0   \n",
       "523   6825-UYPFK  Female             0.0       0          0    23.0   \n",
       "\n",
       "     PhoneService  MultpleLines Internet Service  Online Security  ...  \\\n",
       "2859            1           1.0              DSL              1.0  ...   \n",
       "2061            1           0.0              DSL              0.0  ...   \n",
       "3788           No           0.0      Fiber optic              0.0  ...   \n",
       "1035            1           1.0               No              0.0  ...   \n",
       "523             1           1.0      Fiber optic              0.0  ...   \n",
       "\n",
       "           OnlineSecurity         OnlineBackup     DeviceProtection  \\\n",
       "2859  No internet service  No internet service  No internet service   \n",
       "2061  No internet service  No internet service  No internet service   \n",
       "3788                   No                   No                   No   \n",
       "1035  No internet service  No internet service  No internet service   \n",
       "523   No internet service  No internet service  No internet service   \n",
       "\n",
       "              TechSupport          StreamingTV      StreamingMovies  \\\n",
       "2859  No internet service  No internet service  No internet service   \n",
       "2061  No internet service  No internet service  No internet service   \n",
       "3788                   No                   No                   No   \n",
       "1035  No internet service  No internet service  No internet service   \n",
       "523   No internet service  No internet service  No internet service   \n",
       "\n",
       "      PaperlessBilling     PaymentMethod  MonthlyCharges  TotalCharges  \n",
       "2859               Yes  Electronic check           70.35      1398.275  \n",
       "2061               Yes  Electronic check           70.35      1398.275  \n",
       "3788               Yes  Electronic check           25.15        99.950  \n",
       "1035               Yes  Electronic check           70.35      1398.275  \n",
       "523                Yes  Electronic check           70.35      1398.275  \n",
       "\n",
       "[5 rows x 33 columns]"
      ]
     },
     "execution_count": 104,
     "metadata": {},
     "output_type": "execute_result"
    }
   ],
   "source": [
    "X_test.head()"
   ]
  },
  {
   "cell_type": "code",
   "execution_count": 105,
   "metadata": {},
   "outputs": [
    {
     "data": {
      "text/html": [
       "<div>\n",
       "<style scoped>\n",
       "    .dataframe tbody tr th:only-of-type {\n",
       "        vertical-align: middle;\n",
       "    }\n",
       "\n",
       "    .dataframe tbody tr th {\n",
       "        vertical-align: top;\n",
       "    }\n",
       "\n",
       "    .dataframe thead th {\n",
       "        text-align: right;\n",
       "    }\n",
       "</style>\n",
       "<table border=\"1\" class=\"dataframe\">\n",
       "  <thead>\n",
       "    <tr style=\"text-align: right;\">\n",
       "      <th></th>\n",
       "      <th>CustomerID</th>\n",
       "      <th>gender</th>\n",
       "      <th>Senior Citizen</th>\n",
       "      <th>Partner</th>\n",
       "      <th>Dependents</th>\n",
       "      <th>tenure</th>\n",
       "      <th>PhoneService</th>\n",
       "      <th>MultpleLines</th>\n",
       "      <th>Internet Service</th>\n",
       "      <th>Online Security</th>\n",
       "      <th>...</th>\n",
       "      <th>OnlineBackup</th>\n",
       "      <th>DeviceProtection</th>\n",
       "      <th>TechSupport</th>\n",
       "      <th>StreamingTV</th>\n",
       "      <th>StreamingMovies</th>\n",
       "      <th>PaperlessBilling</th>\n",
       "      <th>PaymentMethod</th>\n",
       "      <th>MonthlyCharges</th>\n",
       "      <th>TotalCharges</th>\n",
       "      <th>Churn</th>\n",
       "    </tr>\n",
       "  </thead>\n",
       "  <tbody>\n",
       "    <tr>\n",
       "      <th>2859</th>\n",
       "      <td>6963-EZQEE</td>\n",
       "      <td>Male</td>\n",
       "      <td>1.0</td>\n",
       "      <td>1</td>\n",
       "      <td>0</td>\n",
       "      <td>70.0</td>\n",
       "      <td>1</td>\n",
       "      <td>1.0</td>\n",
       "      <td>DSL</td>\n",
       "      <td>1.0</td>\n",
       "      <td>...</td>\n",
       "      <td>No internet service</td>\n",
       "      <td>No internet service</td>\n",
       "      <td>No internet service</td>\n",
       "      <td>No internet service</td>\n",
       "      <td>No internet service</td>\n",
       "      <td>Yes</td>\n",
       "      <td>Electronic check</td>\n",
       "      <td>70.35</td>\n",
       "      <td>1398.275</td>\n",
       "      <td>0</td>\n",
       "    </tr>\n",
       "    <tr>\n",
       "      <th>2061</th>\n",
       "      <td>4958-GZWIY</td>\n",
       "      <td>Male</td>\n",
       "      <td>0.0</td>\n",
       "      <td>1</td>\n",
       "      <td>1</td>\n",
       "      <td>7.0</td>\n",
       "      <td>1</td>\n",
       "      <td>0.0</td>\n",
       "      <td>DSL</td>\n",
       "      <td>0.0</td>\n",
       "      <td>...</td>\n",
       "      <td>No internet service</td>\n",
       "      <td>No internet service</td>\n",
       "      <td>No internet service</td>\n",
       "      <td>No internet service</td>\n",
       "      <td>No internet service</td>\n",
       "      <td>Yes</td>\n",
       "      <td>Electronic check</td>\n",
       "      <td>70.35</td>\n",
       "      <td>1398.275</td>\n",
       "      <td>0</td>\n",
       "    </tr>\n",
       "    <tr>\n",
       "      <th>3788</th>\n",
       "      <td>0002-ORFBO</td>\n",
       "      <td>Female</td>\n",
       "      <td>0.0</td>\n",
       "      <td>Yes</td>\n",
       "      <td>No</td>\n",
       "      <td>4.0</td>\n",
       "      <td>No</td>\n",
       "      <td>0.0</td>\n",
       "      <td>Fiber optic</td>\n",
       "      <td>0.0</td>\n",
       "      <td>...</td>\n",
       "      <td>No</td>\n",
       "      <td>No</td>\n",
       "      <td>No</td>\n",
       "      <td>No</td>\n",
       "      <td>No</td>\n",
       "      <td>Yes</td>\n",
       "      <td>Electronic check</td>\n",
       "      <td>25.15</td>\n",
       "      <td>99.950</td>\n",
       "      <td>1</td>\n",
       "    </tr>\n",
       "    <tr>\n",
       "      <th>1035</th>\n",
       "      <td>1767-CJKBA</td>\n",
       "      <td>Male</td>\n",
       "      <td>0.0</td>\n",
       "      <td>0</td>\n",
       "      <td>0</td>\n",
       "      <td>66.0</td>\n",
       "      <td>1</td>\n",
       "      <td>1.0</td>\n",
       "      <td>No</td>\n",
       "      <td>0.0</td>\n",
       "      <td>...</td>\n",
       "      <td>No internet service</td>\n",
       "      <td>No internet service</td>\n",
       "      <td>No internet service</td>\n",
       "      <td>No internet service</td>\n",
       "      <td>No internet service</td>\n",
       "      <td>Yes</td>\n",
       "      <td>Electronic check</td>\n",
       "      <td>70.35</td>\n",
       "      <td>1398.275</td>\n",
       "      <td>0</td>\n",
       "    </tr>\n",
       "    <tr>\n",
       "      <th>523</th>\n",
       "      <td>6825-UYPFK</td>\n",
       "      <td>Female</td>\n",
       "      <td>0.0</td>\n",
       "      <td>0</td>\n",
       "      <td>0</td>\n",
       "      <td>23.0</td>\n",
       "      <td>1</td>\n",
       "      <td>1.0</td>\n",
       "      <td>Fiber optic</td>\n",
       "      <td>0.0</td>\n",
       "      <td>...</td>\n",
       "      <td>No internet service</td>\n",
       "      <td>No internet service</td>\n",
       "      <td>No internet service</td>\n",
       "      <td>No internet service</td>\n",
       "      <td>No internet service</td>\n",
       "      <td>Yes</td>\n",
       "      <td>Electronic check</td>\n",
       "      <td>70.35</td>\n",
       "      <td>1398.275</td>\n",
       "      <td>0</td>\n",
       "    </tr>\n",
       "  </tbody>\n",
       "</table>\n",
       "<p>5 rows × 34 columns</p>\n",
       "</div>"
      ],
      "text/plain": [
       "      CustomerID  gender  Senior Citizen Partner Dependents  tenure  \\\n",
       "2859  6963-EZQEE    Male             1.0       1          0    70.0   \n",
       "2061  4958-GZWIY    Male             0.0       1          1     7.0   \n",
       "3788  0002-ORFBO  Female             0.0     Yes         No     4.0   \n",
       "1035  1767-CJKBA    Male             0.0       0          0    66.0   \n",
       "523   6825-UYPFK  Female             0.0       0          0    23.0   \n",
       "\n",
       "     PhoneService  MultpleLines Internet Service  Online Security  ...  \\\n",
       "2859            1           1.0              DSL              1.0  ...   \n",
       "2061            1           0.0              DSL              0.0  ...   \n",
       "3788           No           0.0      Fiber optic              0.0  ...   \n",
       "1035            1           1.0               No              0.0  ...   \n",
       "523             1           1.0      Fiber optic              0.0  ...   \n",
       "\n",
       "             OnlineBackup     DeviceProtection          TechSupport  \\\n",
       "2859  No internet service  No internet service  No internet service   \n",
       "2061  No internet service  No internet service  No internet service   \n",
       "3788                   No                   No                   No   \n",
       "1035  No internet service  No internet service  No internet service   \n",
       "523   No internet service  No internet service  No internet service   \n",
       "\n",
       "              StreamingTV      StreamingMovies PaperlessBilling  \\\n",
       "2859  No internet service  No internet service              Yes   \n",
       "2061  No internet service  No internet service              Yes   \n",
       "3788                   No                   No              Yes   \n",
       "1035  No internet service  No internet service              Yes   \n",
       "523   No internet service  No internet service              Yes   \n",
       "\n",
       "         PaymentMethod MonthlyCharges  TotalCharges  Churn  \n",
       "2859  Electronic check          70.35      1398.275      0  \n",
       "2061  Electronic check          70.35      1398.275      0  \n",
       "3788  Electronic check          25.15        99.950      1  \n",
       "1035  Electronic check          70.35      1398.275      0  \n",
       "523   Electronic check          70.35      1398.275      0  \n",
       "\n",
       "[5 rows x 34 columns]"
      ]
     },
     "execution_count": 105,
     "metadata": {},
     "output_type": "execute_result"
    }
   ],
   "source": [
    "# Create a DataFrame to hold the test data and predictions\n",
    "test_data = pd.DataFrame(X_test, columns=X_test.columns)\n",
    "test_data['Churn'] = result_4_4_2\n",
    "\n",
    "# Print the first few rows of the combined DataFrame\n",
    "test_data.head()"
   ]
  },
  {
   "cell_type": "markdown",
   "metadata": {},
   "source": [
    "We combined the original features of the test data with the predicted churn values made by the model. By creating the test_data DataFrame, helps us to easily observe and analyze how the model's predictions align with the actual test data. The printed output displays a table where each row represents an instance from the test data, and the columns show the individual features as well as the predicted churn values.\n"
   ]
  },
  {
   "cell_type": "code",
   "execution_count": 106,
   "metadata": {},
   "outputs": [],
   "source": [
    "# Exporting the requirements\n",
    "requirements = \"\\n\".join(f\"{m.__name__}=={m.__version__}\" for m in globals().values() if getattr(m, \"__version__\", None))\n",
    "\n",
    "with open(\"requirements.txt\", \"w\") as f:\n",
    "    f.write(requirements)"
   ]
  },
  {
   "cell_type": "code",
   "execution_count": 107,
   "metadata": {},
   "outputs": [],
   "source": [
    "X_encoded= encoder.fit(X_train[categorical_cols])"
   ]
  },
  {
   "cell_type": "code",
   "execution_count": 108,
   "metadata": {},
   "outputs": [],
   "source": [
    "# Creating a dictionary of objects to export\n",
    "exports = {\"encoder\": encoder,\n",
    "           \"scaler\":scaler,\n",
    "           \"model\":RFP}"
   ]
  },
  {
   "cell_type": "code",
   "execution_count": 109,
   "metadata": {},
   "outputs": [],
   "source": [
    "import pickle"
   ]
  },
  {
   "cell_type": "code",
   "execution_count": 110,
   "metadata": {},
   "outputs": [],
   "source": [
    "# Exporting the dictionary with Pickle\n",
    "with open(\"Gradio_toolkit\", \"wb\") as file:\n",
    "    pickle.dump(exports, file)"
   ]
  },
  {
   "cell_type": "code",
   "execution_count": 111,
   "metadata": {},
   "outputs": [],
   "source": [
    "# Save the trained Random Forest model to a file\n",
    "with open('random_forest_model.pkl', 'wb') as model_file:\n",
    "    pickle.dump(RFP, model_file)\n"
   ]
  },
  {
   "cell_type": "code",
   "execution_count": 112,
   "metadata": {},
   "outputs": [],
   "source": [
    "# Load the saved Random Forest model from a file\n",
    "with open('random_forest_model.pkl', 'rb') as model_file:\n",
    "    loaded_rf_model = pickle.load(model_file)\n",
    "\n",
    "# Now 'loaded_rf_model' contains your trained Random Forest model\n"
   ]
  }
 ],
 "metadata": {
  "kernelspec": {
   "display_name": "Python 3 (ipykernel)",
   "language": "python",
   "name": "python3"
  },
  "language_info": {
   "codemirror_mode": {
    "name": "ipython",
    "version": 3
   },
   "file_extension": ".py",
   "mimetype": "text/x-python",
   "name": "python",
   "nbconvert_exporter": "python",
   "pygments_lexer": "ipython3",
   "version": "3.9.12"
  }
 },
 "nbformat": 4,
 "nbformat_minor": 2
}
